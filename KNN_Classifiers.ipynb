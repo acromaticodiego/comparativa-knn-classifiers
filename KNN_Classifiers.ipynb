{
  "cells": [
    {
      "cell_type": "markdown",
      "metadata": {
        "id": "Vg94VrW_ovN0"
      },
      "source": [
        "<h1> KNN Classifiers, Image Transformations, and Manipulation by Diego-Ossa</h1>"
      ]
    },
    {
      "cell_type": "code",
      "execution_count": null,
      "metadata": {
        "colab": {
          "base_uri": "https://localhost:8080/"
        },
        "id": "YGjRNbXBtGUN",
        "outputId": "cee05803-b6f6-4c66-8be1-b81a14efadde"
      },
      "outputs": [
        {
          "name": "stdout",
          "output_type": "stream",
          "text": [
            "Drive already mounted at /content/drive; to attempt to forcibly remount, call drive.mount(\"/content/drive\", force_remount=True).\n"
          ]
        }
      ],
      "source": [
        "from google.colab import drive\n",
        "drive.mount('/content/drive')"
      ]
    },
    {
      "cell_type": "markdown",
      "metadata": {
        "id": "xAGRuGLapOsm"
      },
      "source": [
        "# **Images Acquisition**"
      ]
    },
    {
      "cell_type": "markdown",
      "metadata": {
        "id": "fQ4rGHUepq_M"
      },
      "source": [
        "## Dataset Kaggle\n"
      ]
    },
    {
      "cell_type": "markdown",
      "metadata": {
        "id": "3Ca5tVXKlhCT"
      },
      "source": [
        "You upload the JSON file containing your Kaggle API credentials to Colab. This JSON file is required to authenticate and use the Kaggle API within the Colab environment."
      ]
    },
    {
      "cell_type": "code",
      "execution_count": null,
      "metadata": {
        "colab": {
          "base_uri": "https://localhost:8080/",
          "height": 55
        },
        "id": "lc8SmylD3ZlD",
        "outputId": "258686eb-f247-4314-c4ac-761499e1428d"
      },
      "outputs": [
        {
          "data": {
            "text/html": [
              "\n",
              "     <input type=\"file\" id=\"files-913bce98-e671-4efc-9ac7-58442255b3f9\" name=\"files[]\" multiple disabled\n",
              "        style=\"border:none\" />\n",
              "     <output id=\"result-913bce98-e671-4efc-9ac7-58442255b3f9\">\n",
              "      Upload widget is only available when the cell has been executed in the\n",
              "      current browser session. Please rerun this cell to enable.\n",
              "      </output>\n",
              "      <script>// Copyright 2017 Google LLC\n",
              "//\n",
              "// Licensed under the Apache License, Version 2.0 (the \"License\");\n",
              "// you may not use this file except in compliance with the License.\n",
              "// You may obtain a copy of the License at\n",
              "//\n",
              "//      http://www.apache.org/licenses/LICENSE-2.0\n",
              "//\n",
              "// Unless required by applicable law or agreed to in writing, software\n",
              "// distributed under the License is distributed on an \"AS IS\" BASIS,\n",
              "// WITHOUT WARRANTIES OR CONDITIONS OF ANY KIND, either express or implied.\n",
              "// See the License for the specific language governing permissions and\n",
              "// limitations under the License.\n",
              "\n",
              "/**\n",
              " * @fileoverview Helpers for google.colab Python module.\n",
              " */\n",
              "(function(scope) {\n",
              "function span(text, styleAttributes = {}) {\n",
              "  const element = document.createElement('span');\n",
              "  element.textContent = text;\n",
              "  for (const key of Object.keys(styleAttributes)) {\n",
              "    element.style[key] = styleAttributes[key];\n",
              "  }\n",
              "  return element;\n",
              "}\n",
              "\n",
              "// Max number of bytes which will be uploaded at a time.\n",
              "const MAX_PAYLOAD_SIZE = 100 * 1024;\n",
              "\n",
              "function _uploadFiles(inputId, outputId) {\n",
              "  const steps = uploadFilesStep(inputId, outputId);\n",
              "  const outputElement = document.getElementById(outputId);\n",
              "  // Cache steps on the outputElement to make it available for the next call\n",
              "  // to uploadFilesContinue from Python.\n",
              "  outputElement.steps = steps;\n",
              "\n",
              "  return _uploadFilesContinue(outputId);\n",
              "}\n",
              "\n",
              "// This is roughly an async generator (not supported in the browser yet),\n",
              "// where there are multiple asynchronous steps and the Python side is going\n",
              "// to poll for completion of each step.\n",
              "// This uses a Promise to block the python side on completion of each step,\n",
              "// then passes the result of the previous step as the input to the next step.\n",
              "function _uploadFilesContinue(outputId) {\n",
              "  const outputElement = document.getElementById(outputId);\n",
              "  const steps = outputElement.steps;\n",
              "\n",
              "  const next = steps.next(outputElement.lastPromiseValue);\n",
              "  return Promise.resolve(next.value.promise).then((value) => {\n",
              "    // Cache the last promise value to make it available to the next\n",
              "    // step of the generator.\n",
              "    outputElement.lastPromiseValue = value;\n",
              "    return next.value.response;\n",
              "  });\n",
              "}\n",
              "\n",
              "/**\n",
              " * Generator function which is called between each async step of the upload\n",
              " * process.\n",
              " * @param {string} inputId Element ID of the input file picker element.\n",
              " * @param {string} outputId Element ID of the output display.\n",
              " * @return {!Iterable<!Object>} Iterable of next steps.\n",
              " */\n",
              "function* uploadFilesStep(inputId, outputId) {\n",
              "  const inputElement = document.getElementById(inputId);\n",
              "  inputElement.disabled = false;\n",
              "\n",
              "  const outputElement = document.getElementById(outputId);\n",
              "  outputElement.innerHTML = '';\n",
              "\n",
              "  const pickedPromise = new Promise((resolve) => {\n",
              "    inputElement.addEventListener('change', (e) => {\n",
              "      resolve(e.target.files);\n",
              "    });\n",
              "  });\n",
              "\n",
              "  const cancel = document.createElement('button');\n",
              "  inputElement.parentElement.appendChild(cancel);\n",
              "  cancel.textContent = 'Cancel upload';\n",
              "  const cancelPromise = new Promise((resolve) => {\n",
              "    cancel.onclick = () => {\n",
              "      resolve(null);\n",
              "    };\n",
              "  });\n",
              "\n",
              "  // Wait for the user to pick the files.\n",
              "  const files = yield {\n",
              "    promise: Promise.race([pickedPromise, cancelPromise]),\n",
              "    response: {\n",
              "      action: 'starting',\n",
              "    }\n",
              "  };\n",
              "\n",
              "  cancel.remove();\n",
              "\n",
              "  // Disable the input element since further picks are not allowed.\n",
              "  inputElement.disabled = true;\n",
              "\n",
              "  if (!files) {\n",
              "    return {\n",
              "      response: {\n",
              "        action: 'complete',\n",
              "      }\n",
              "    };\n",
              "  }\n",
              "\n",
              "  for (const file of files) {\n",
              "    const li = document.createElement('li');\n",
              "    li.append(span(file.name, {fontWeight: 'bold'}));\n",
              "    li.append(span(\n",
              "        `(${file.type || 'n/a'}) - ${file.size} bytes, ` +\n",
              "        `last modified: ${\n",
              "            file.lastModifiedDate ? file.lastModifiedDate.toLocaleDateString() :\n",
              "                                    'n/a'} - `));\n",
              "    const percent = span('0% done');\n",
              "    li.appendChild(percent);\n",
              "\n",
              "    outputElement.appendChild(li);\n",
              "\n",
              "    const fileDataPromise = new Promise((resolve) => {\n",
              "      const reader = new FileReader();\n",
              "      reader.onload = (e) => {\n",
              "        resolve(e.target.result);\n",
              "      };\n",
              "      reader.readAsArrayBuffer(file);\n",
              "    });\n",
              "    // Wait for the data to be ready.\n",
              "    let fileData = yield {\n",
              "      promise: fileDataPromise,\n",
              "      response: {\n",
              "        action: 'continue',\n",
              "      }\n",
              "    };\n",
              "\n",
              "    // Use a chunked sending to avoid message size limits. See b/62115660.\n",
              "    let position = 0;\n",
              "    do {\n",
              "      const length = Math.min(fileData.byteLength - position, MAX_PAYLOAD_SIZE);\n",
              "      const chunk = new Uint8Array(fileData, position, length);\n",
              "      position += length;\n",
              "\n",
              "      const base64 = btoa(String.fromCharCode.apply(null, chunk));\n",
              "      yield {\n",
              "        response: {\n",
              "          action: 'append',\n",
              "          file: file.name,\n",
              "          data: base64,\n",
              "        },\n",
              "      };\n",
              "\n",
              "      let percentDone = fileData.byteLength === 0 ?\n",
              "          100 :\n",
              "          Math.round((position / fileData.byteLength) * 100);\n",
              "      percent.textContent = `${percentDone}% done`;\n",
              "\n",
              "    } while (position < fileData.byteLength);\n",
              "  }\n",
              "\n",
              "  // All done.\n",
              "  yield {\n",
              "    response: {\n",
              "      action: 'complete',\n",
              "    }\n",
              "  };\n",
              "}\n",
              "\n",
              "scope.google = scope.google || {};\n",
              "scope.google.colab = scope.google.colab || {};\n",
              "scope.google.colab._files = {\n",
              "  _uploadFiles,\n",
              "  _uploadFilesContinue,\n",
              "};\n",
              "})(self);\n",
              "</script> "
            ],
            "text/plain": [
              "<IPython.core.display.HTML object>"
            ]
          },
          "metadata": {},
          "output_type": "display_data"
        },
        {
          "data": {
            "text/plain": [
              "{}"
            ]
          },
          "execution_count": 3,
          "metadata": {},
          "output_type": "execute_result"
        }
      ],
      "source": [
        "! pip install -q kaggle\n",
        "from google.colab import files\n",
        "files.upload()"
      ]
    },
    {
      "cell_type": "markdown",
      "metadata": {
        "id": "qnVppXCilvq7"
      },
      "source": [
        "This command upgrades the Kaggle package to the latest version available in the Python environment. It ensures that you have the most recent features and bug fixes provided by Kaggle."
      ]
    },
    {
      "cell_type": "code",
      "execution_count": null,
      "metadata": {
        "colab": {
          "base_uri": "https://localhost:8080/"
        },
        "id": "BkOxavmQ4LEB",
        "outputId": "0c199a6e-2f39-44c3-cf6c-e4e4e083e0c9"
      },
      "outputs": [
        {
          "name": "stdout",
          "output_type": "stream",
          "text": [
            "Requirement already satisfied: kaggle in /usr/local/lib/python3.10/dist-packages (1.5.16)\n",
            "Collecting kaggle\n",
            "  Downloading kaggle-1.6.8.tar.gz (84 kB)\n",
            "\u001b[2K     \u001b[90m━━━━━━━━━━━━━━━━━━━━━━━━━━━━━━━━━━━━━━━━\u001b[0m \u001b[32m84.6/84.6 kB\u001b[0m \u001b[31m1.3 MB/s\u001b[0m eta \u001b[36m0:00:00\u001b[0m\n",
            "\u001b[?25h  Preparing metadata (setup.py) ... \u001b[?25l\u001b[?25hdone\n",
            "Requirement already satisfied: six>=1.10 in /usr/local/lib/python3.10/dist-packages (from kaggle) (1.16.0)\n",
            "Requirement already satisfied: certifi>=2023.7.22 in /usr/local/lib/python3.10/dist-packages (from kaggle) (2024.2.2)\n",
            "Requirement already satisfied: python-dateutil in /usr/local/lib/python3.10/dist-packages (from kaggle) (2.8.2)\n",
            "Requirement already satisfied: requests in /usr/local/lib/python3.10/dist-packages (from kaggle) (2.31.0)\n",
            "Requirement already satisfied: tqdm in /usr/local/lib/python3.10/dist-packages (from kaggle) (4.66.2)\n",
            "Requirement already satisfied: python-slugify in /usr/local/lib/python3.10/dist-packages (from kaggle) (8.0.4)\n",
            "Requirement already satisfied: urllib3 in /usr/local/lib/python3.10/dist-packages (from kaggle) (2.0.7)\n",
            "Requirement already satisfied: bleach in /usr/local/lib/python3.10/dist-packages (from kaggle) (6.1.0)\n",
            "Requirement already satisfied: webencodings in /usr/local/lib/python3.10/dist-packages (from bleach->kaggle) (0.5.1)\n",
            "Requirement already satisfied: text-unidecode>=1.3 in /usr/local/lib/python3.10/dist-packages (from python-slugify->kaggle) (1.3)\n",
            "Requirement already satisfied: charset-normalizer<4,>=2 in /usr/local/lib/python3.10/dist-packages (from requests->kaggle) (3.3.2)\n",
            "Requirement already satisfied: idna<4,>=2.5 in /usr/local/lib/python3.10/dist-packages (from requests->kaggle) (3.6)\n",
            "Building wheels for collected packages: kaggle\n",
            "  Building wheel for kaggle (setup.py) ... \u001b[?25l\u001b[?25hdone\n",
            "  Created wheel for kaggle: filename=kaggle-1.6.8-py3-none-any.whl size=111962 sha256=38befb79ea9c72dc024134bc9d2c2551b58499140bd5366edbb6d42d0be5201d\n",
            "  Stored in directory: /root/.cache/pip/wheels/b3/86/2d/2df535a84838c858ca91a03805f9c3131573c8e777fd907689\n",
            "Successfully built kaggle\n",
            "Installing collected packages: kaggle\n",
            "  Attempting uninstall: kaggle\n",
            "    Found existing installation: kaggle 1.5.16\n",
            "    Uninstalling kaggle-1.5.16:\n",
            "      Successfully uninstalled kaggle-1.5.16\n",
            "Successfully installed kaggle-1.6.8\n"
          ]
        }
      ],
      "source": [
        "!pip install --upgrade kaggle"
      ]
    },
    {
      "cell_type": "markdown",
      "metadata": {
        "id": "KsQ3B4k5l4Jz"
      },
      "source": [
        "These commands create a directory named .kaggle in your home directory (~) if it doesn't already exist. Then, they copy the kaggle.json file, which contains your Kaggle API credentials, to this directory. Finally, they set the appropriate permissions for the kaggle.json file to ensure that only you can read and write to it. This is necessary for security reasons, as the Kaggle API requires your credentials to be stored securely."
      ]
    },
    {
      "cell_type": "code",
      "execution_count": null,
      "metadata": {
        "id": "P05qdDeM3ol2"
      },
      "outputs": [],
      "source": [
        "! mkdir ~/.kaggle\n",
        "! cp kaggle.json ~/.kaggle/\n",
        "! chmod 600 ~/.kaggle/kaggle.json"
      ]
    },
    {
      "cell_type": "markdown",
      "metadata": {
        "id": "b0Dg8-J1mNLX"
      },
      "source": [
        "Running kaggle datasets list checks if your Kaggle API is correctly set up and has the necessary permissions to access datasets on Kaggle. If it successfully lists the datasets, then your Kaggle API configuration is correct and you have the necessary permissions."
      ]
    },
    {
      "cell_type": "code",
      "execution_count": null,
      "metadata": {
        "colab": {
          "base_uri": "https://localhost:8080/"
        },
        "id": "02nepfUo37kD",
        "outputId": "8c38aea7-e596-4569-d695-e6db7605644a"
      },
      "outputs": [
        {
          "name": "stdout",
          "output_type": "stream",
          "text": [
            "Warning: Looks like you're using an outdated API Version, please consider updating (server 1.6.7 / client 1.5.16)\n",
            "ref                                                          title                                               size  lastUpdated          downloadCount  voteCount  usabilityRating  \n",
            "-----------------------------------------------------------  -------------------------------------------------  -----  -------------------  -------------  ---------  ---------------  \n",
            "sudarshan24byte/online-food-dataset                          Online Food Dataset                                  3KB  2024-03-02 18:50:30          13528        267  0.9411765        \n",
            "syedanwarafridi/vehicle-sales-data                           Vehicle Sales Data                                  19MB  2024-02-21 20:16:17          21647        364  1.0              \n",
            "kanchana1990/world-air-quality-data-2024-updated             World Air Quality Data 2024 (Updated)                2MB  2024-03-25 15:10:07           1214         31  0.9411765        \n",
            "bhavikjikadara/student-study-performance                     Student Study Performance                            9KB  2024-03-07 06:14:09           7046        106  1.0              \n",
            "sukhmandeepsinghbrar/total-worldwide-passenger-cars-sales    Total Worldwide Passenger Cars Sales                 8KB  2024-03-25 16:32:42            755         28  1.0              \n",
            "ronaldonyango/global-suicide-rates-1990-to-2022              Suicide Rates & Socioeconomic Factors (1990 - 22)    2MB  2024-03-14 14:30:20           2597         35  1.0              \n",
            "julianoorlandi/spotify-top-songs-and-audio-features          Spotify Top Songs and Audio Features               526KB  2024-03-18 12:49:50           2037         41  1.0              \n",
            "lovishbansal123/sales-of-a-supermarket                       Sales of a Supermarket                              36KB  2024-03-26 12:38:06           1109         27  1.0              \n",
            "bhavikjikadara/mental-health-dataset                         Mental Health Dataset                                2MB  2024-03-18 06:05:16           1884         40  1.0              \n",
            "arnavvvvv/spotify-music                                      Top Spotify Songs                                   47KB  2024-03-06 05:20:29           7049         93  1.0              \n",
            "tarunrm09/climate-change-indicators                          Climate change Indicators                           34KB  2024-02-22 08:53:54          10191        186  1.0              \n",
            "nbroad/gemma-rewrite-nbroad                                  gemma-rewrite-nbroad                                 8MB  2024-03-03 04:52:39           1058         81  1.0              \n",
            "nartaa/features-head-starter-models                          Features+Head Starter Models                         3GB  2024-03-26 11:32:50            390         27  1.0              \n",
            "rahulvyasm/medical-insurance-cost-prediction                 Medical Insurance Cost Prediction                   32KB  2024-03-14 18:23:22           1337         29  0.9411765        \n",
            "sakshisatre/the-boston-housing-dataset                       The Boston Housing Dataset                          13KB  2024-03-24 12:56:20            356         25  1.0              \n",
            "thesnak/stock-market-analysis                                Stock Market Analysis                                6KB  2024-03-21 20:52:55            884         33  1.0              \n",
            "mexwell/student-scores                                       🎓 Student Scores                                    62KB  2024-03-05 10:08:50           1562         30  1.0              \n",
            "ayushparwal2026/cars-dataset                                 Cars Dataset                                       169KB  2024-03-11 16:23:49           2534         37  1.0              \n",
            "arnavvvvv/netflix-movies-and-tv-shows                        Netflix Movies and TV Shows                          1MB  2024-03-04 15:49:29           4670         71  1.0              \n",
            "santiago123678/biological-data-of-human-ancestors-data-sets  Biological Data Of Human Evolution Data Sets       323KB  2024-03-16 20:40:02            817         27  1.0              \n"
          ]
        }
      ],
      "source": [
        "! kaggle datasets list"
      ]
    },
    {
      "cell_type": "code",
      "execution_count": null,
      "metadata": {
        "id": "4RASVDvc4v3m"
      },
      "outputs": [],
      "source": [
        "import shutil\n",
        "import zipfile\n",
        "import os"
      ]
    },
    {
      "cell_type": "markdown",
      "metadata": {
        "id": "A_Eve_LumW9w"
      },
      "source": [
        "This code downloads the \"clothing-dataset-small\" dataset from Kaggle using the <code>kaggle datasets download</code> command. Then, it moves the downloaded file to a specific location in your Google Drive using <code>shutil.move</code>."
      ]
    },
    {
      "cell_type": "code",
      "execution_count": null,
      "metadata": {
        "id": "5bea0TDy4U6v"
      },
      "outputs": [],
      "source": [
        "! kaggle datasets download -d abdelrahmansoltan98/clothing-dataset-small\n",
        "\n",
        "# Ruta al archivo descargado\n",
        "source_path = 'clothing-dataset-small.zip'\n",
        "\n",
        "# Ruta de destino en tu Google Drive\n",
        "destination_path = '/content/drive/MyDrive/Practica2'\n",
        "\n",
        "# Mover el archivo a Google Drive\n",
        "shutil.move(source_path, destination_path)"
      ]
    },
    {
      "cell_type": "markdown",
      "metadata": {
        "id": "Q4D1IpCvmtEr"
      },
      "source": [
        "This code unzips the \"clothing-dataset-small.zip\" file located in your Google Drive. It extracts the contents of the zip file to a specific directory using the <code>zipfile.ZipFile</code> module in Python."
      ]
    },
    {
      "cell_type": "code",
      "execution_count": null,
      "metadata": {
        "colab": {
          "base_uri": "https://localhost:8080/"
        },
        "id": "Ft8E7xvo5oOb",
        "outputId": "8817de49-86c8-4a29-ae1c-0ab665351cde"
      },
      "outputs": [
        {
          "name": "stdout",
          "output_type": "stream",
          "text": [
            "Archivos extraídos: ['train', 'validation']\n"
          ]
        }
      ],
      "source": [
        "# Ruta al archivo zip en tu Google Drive\n",
        "zip_file_path = '/content/drive/MyDrive/Practica2/clothing-dataset-small.zip'\n",
        "\n",
        "# Directorio de destino para la extracción\n",
        "extracted_dir_path = '/content/drive/MyDrive/Practica2'\n",
        "\n",
        "# Descomprimir el archivo zip\n",
        "with zipfile.ZipFile(zip_file_path, 'r') as zip_ref:\n",
        "    zip_ref.extractall(extracted_dir_path)\n",
        "\n",
        "# Verificar los archivos extraídos\n",
        "extracted_files = os.listdir(extracted_dir_path)\n",
        "print(\"Archivos extraídos:\", extracted_files)"
      ]
    },
    {
      "cell_type": "code",
      "execution_count": null,
      "metadata": {
        "colab": {
          "base_uri": "https://localhost:8080/"
        },
        "id": "ddASFfkc7lfX",
        "outputId": "4d3fc543-19e4-4931-d7bd-2c49153818b1"
      },
      "outputs": [
        {
          "name": "stdout",
          "output_type": "stream",
          "text": [
            "The total number of images in the folder is: 149\n"
          ]
        }
      ],
      "source": [
        "# Path to the folder containing the images\n",
        "folder_path = '/content/drive/MyDrive/Practica2/images/hats'\n",
        "\n",
        "# List files in the folder\n",
        "files = os.listdir(folder_path)\n",
        "\n",
        "# Counter to store the number of images\n",
        "image_count = 0\n",
        "\n",
        "# Filter files to include only images\n",
        "valid_extensions = ['.jpg', '.jpeg', '.png', '.gif']  # You can add more extensions if necessary\n",
        "\n",
        "for file in files:\n",
        "    if os.path.isfile(os.path.join(folder_path, file)):\n",
        "        if os.path.splitext(file)[1].lower() in valid_extensions:\n",
        "            image_count += 1\n",
        "\n",
        "# Prints the total number of images found\n",
        "print(\"The total number of images in the folder is:\", image_count)"
      ]
    },
    {
      "cell_type": "markdown",
      "metadata": {
        "id": "ssAqZ5C6nE8v"
      },
      "source": [
        "\n",
        "This code block sets a maximum limit for the number of images to be retained in a folder and then removes the excess images if the total count of images in the folder exceeds that limit."
      ]
    },
    {
      "cell_type": "code",
      "execution_count": null,
      "metadata": {
        "colab": {
          "base_uri": "https://localhost:8080/"
        },
        "id": "G-sIBpe5PkE6",
        "outputId": "48d2cbcd-5b5b-4d88-f630-5de7fec80d31"
      },
      "outputs": [
        {
          "name": "stdout",
          "output_type": "stream",
          "text": [
            "After removal, the total number of images in the folder is: 150\n"
          ]
        }
      ],
      "source": [
        "# Maximum number of images you want to keep\n",
        "max_image_number = 150\n",
        "\n",
        "# Calculate how many images need to be removed\n",
        "images_to_remove = image_count - max_image_number\n",
        "\n",
        "# Remove images if there are more than 150\n",
        "if images_to_remove > 0:\n",
        "    removed_count = 0\n",
        "    for file in files:\n",
        "        if removed_count >= images_to_remove:\n",
        "            break\n",
        "        if os.path.isfile(os.path.join(folder_path, file)):\n",
        "            if os.path.splitext(file)[1].lower() in valid_extensions:\n",
        "                os.remove(os.path.join(folder_path, file))\n",
        "                removed_count += 1\n",
        "\n",
        "# Update the image count after removal\n",
        "image_count -= images_to_remove\n",
        "\n",
        "# Print the total number of images after removal\n",
        "print(\"After removal, the total number of images in the folder is:\", image_count)"
      ]
    },
    {
      "cell_type": "markdown",
      "metadata": {
        "id": "8Rk0AliPqZw5"
      },
      "source": [
        "## Webscrapping with BeautifulSoup"
      ]
    },
    {
      "cell_type": "code",
      "execution_count": null,
      "metadata": {
        "id": "AtaNEfc8oKmu"
      },
      "outputs": [],
      "source": [
        "from bs4 import BeautifulSoup\n",
        "import requests\n",
        "import shutil\n",
        "import os\n",
        "from PIL import Image"
      ]
    },
    {
      "cell_type": "code",
      "execution_count": null,
      "metadata": {
        "colab": {
          "base_uri": "https://localhost:8080/"
        },
        "id": "TZWgSeUWoQcu",
        "outputId": "854aec9b-7f4d-4408-996e-411a81eeba35"
      },
      "outputs": [
        {
          "name": "stdout",
          "output_type": "stream",
          "text": [
            "Guardado en Google Drive: https://encrypted-tbn0.gstatic.com/images?q=tbn:ANd9GcSU21NsHO08UHmwBCzCfTl4hGz1X-ayvSyfyx7WfxNUWMT0NmWWuUPDOTNkyiA&s\n",
            "Guardado en Google Drive: https://encrypted-tbn0.gstatic.com/images?q=tbn:ANd9GcSDon9ZgqPw0gkGnqEkETxvSTL2igXCI7TdQc4CYCSeAm-AOH4HmNepPCIg--s&s\n",
            "Guardado en Google Drive: https://encrypted-tbn0.gstatic.com/images?q=tbn:ANd9GcR1eVPM1Zu7AlVjFQJb4EK6J1tY-pMRJ6PzNJz7aVLLO4na3R2QYujFEcirENc&s\n",
            "Guardado en Google Drive: https://encrypted-tbn0.gstatic.com/images?q=tbn:ANd9GcRtqlQwHXFFXz47rXYCRYidVN6ArAh_kAlsuzjdQ6hEnon9cbF_GkjQ98tJEw&s\n",
            "Guardado en Google Drive: https://encrypted-tbn0.gstatic.com/images?q=tbn:ANd9GcSScd0aH52TmKLhS2ErhBirt-qOjctYtXVV9LRHil4vHNNzWIFnGhtadTE7VMw&s\n",
            "Guardado en Google Drive: https://encrypted-tbn0.gstatic.com/images?q=tbn:ANd9GcT3Daa4a2xiBJeI7dZaBFxjqmflqyEdlH5M2k2caS6SNw4iRaHWK-fF7m7yp5s&s\n",
            "Guardado en Google Drive: https://encrypted-tbn0.gstatic.com/images?q=tbn:ANd9GcRrhr2Z1OcP6khrNf0irUHOGd0RmomdReLWFjlKOfa0gDJTqxyTZ2_3xD5aSe0&s\n",
            "Guardado en Google Drive: https://encrypted-tbn0.gstatic.com/images?q=tbn:ANd9GcTJFqKpeMGn2YG4stqFBqf73XJpY3BBJQ8-5pZcfUvxARSUErwVTkyPB70Qddo&s\n",
            "Guardado en Google Drive: https://encrypted-tbn0.gstatic.com/images?q=tbn:ANd9GcTK7gBzKJ5cTYAqf5c8paeJNGEGtr7q0HsQl1GVQf4NhmwT-2uEZwkVxNfBTw&s\n",
            "Guardado en Google Drive: https://encrypted-tbn0.gstatic.com/images?q=tbn:ANd9GcRGV5Y6cE07_N297zAuPESUu8weobkvF9CxO3wn6wUzFzeh_8fvuCwLyOavakI&s\n",
            "Guardado en Google Drive: https://encrypted-tbn0.gstatic.com/images?q=tbn:ANd9GcR_s9fTQqPQgXClqMeCq1zxS6saNwpdlZwsqhShlkSRr-ou9sHeDZh-fUXDKA&s\n",
            "Guardado en Google Drive: https://encrypted-tbn0.gstatic.com/images?q=tbn:ANd9GcRhO8aiyVwlRGGbx9PaDzcYAMtrMVDzDvRRWN4ijgnhh0XFGrVOuTxHkz-vQg&s\n",
            "Guardado en Google Drive: https://encrypted-tbn0.gstatic.com/images?q=tbn:ANd9GcS8iqPMRJG_hxG-di_bunnJv1hsO2r57B_uIMh1rUQp6D5LBU1jlFKo7i9Uqg&s\n",
            "Guardado en Google Drive: https://encrypted-tbn0.gstatic.com/images?q=tbn:ANd9GcRgOcKlfIO036dEWCCeCojo7I62MITqfDBimSZRLb3tV-hnj0nLDpHMeogxwg&s\n",
            "Guardado en Google Drive: https://encrypted-tbn0.gstatic.com/images?q=tbn:ANd9GcRSIbS0vOPz54VHx0d0YVQ0wplGB62GQueI7SBD1naaCIzo15kTOYJA_RaGDBE&s\n",
            "Guardado en Google Drive: https://encrypted-tbn0.gstatic.com/images?q=tbn:ANd9GcTTJqnDkLkae42-u9ASDw5TkahErhG_4NYUBL35wYzK8MecEgRMeh-ngTjmZw&s\n",
            "Guardado en Google Drive: https://encrypted-tbn0.gstatic.com/images?q=tbn:ANd9GcTsLLhorMqE5T1Zpdyakk7moPcz95VIflIYUTXk3nyC5TN57lbsq51nVt0jfXQ&s\n",
            "Guardado en Google Drive: https://encrypted-tbn0.gstatic.com/images?q=tbn:ANd9GcSmSnZ4c07LyetqC7JFPJ1SRrwu3MbYFUNDaTmNFJ8eE5hsNCocrbsMxrtusA&s\n",
            "Guardado en Google Drive: https://encrypted-tbn0.gstatic.com/images?q=tbn:ANd9GcQCEGBEHFx3dzk1fv8ZWM1BDTAwRuKOgUXzy9SpLw_L0MVEGcwfl5PqDH83S3I&s\n",
            "Guardado en Google Drive: https://encrypted-tbn0.gstatic.com/images?q=tbn:ANd9GcSKdFOXmbCO8lrPFFixnSNcklFSy7lyYJ70YIWpKu6vEvL2XW378CCpO9ITpPA&s\n",
            "Descarga y copia a Google Drive completadas.\n"
          ]
        }
      ],
      "source": [
        "# Query para buscar imágenes de zapatos\n",
        "query = 'pantalones'\n",
        "\n",
        "# URL del resultado de búsqueda de imágenes en Google\n",
        "url = f'https://www.google.com/search?q={query}&tbm=isch'\n",
        "\n",
        "# Realizar la solicitud GET a la URL\n",
        "response = requests.get(url)\n",
        "\n",
        "# Crear un objeto BeautifulSoup\n",
        "soup = BeautifulSoup(response.text, 'html.parser')\n",
        "\n",
        "# Encontrar todas las etiquetas 'img' en la página\n",
        "img_tags = soup.find_all('img')\n",
        "\n",
        "# Directorio donde se guardarán las imágenes en Google Drive\n",
        "drive_dir = '/content/drive/MyDrive/Practica2/borrador'\n",
        "\n",
        "# Obtener el número máximo de imagen existente en el directorio\n",
        "existing_images = os.listdir(drive_dir)\n",
        "if existing_images:\n",
        "    existing_numbers = [int(img.split('_')[1].split('.')[0]) for img in existing_images]\n",
        "    img_count = max(existing_numbers) + 1\n",
        "else:\n",
        "    img_count = 1\n",
        "\n",
        "# Variable de conteo de imágenes descargadas\n",
        "downloaded_images = 0\n",
        "\n",
        "# Descargar y guardar cada imagen encontrada\n",
        "for img_tag in img_tags:\n",
        "    # Verificar si hemos descargado 50 imágenes\n",
        "    if downloaded_images >= 50:\n",
        "        break\n",
        "\n",
        "    img_url = img_tag.get('src')\n",
        "    if img_url and img_url.startswith('http'):\n",
        "        # Descargar la imagen\n",
        "        img_response = requests.get(img_url, stream=True)\n",
        "        if img_response.status_code == 200:\n",
        "            # Guardar la imagen en Google Drive\n",
        "            with open(f'{drive_dir}/image_{img_count}.jpg', 'wb') as img_file:\n",
        "                shutil.copyfileobj(img_response.raw, img_file)\n",
        "            print(f\"Guardado en Google Drive: {img_url}\")  # Imprimir la URL de la imagen guardada en Google Drive\n",
        "            img_count += 1\n",
        "            downloaded_images += 1\n",
        "\n",
        "print(\"Descarga y copia a Google Drive completadas.\")"
      ]
    },
    {
      "cell_type": "markdown",
      "metadata": {
        "id": "OfMicaL9qsB2"
      },
      "source": [
        "# **Dataset Creation**\n",
        "\n"
      ]
    },
    {
      "cell_type": "markdown",
      "metadata": {
        "id": "Iq1JNEWOxTBq"
      },
      "source": [
        "## Image Clustering\n",
        "\n"
      ]
    },
    {
      "cell_type": "code",
      "execution_count": null,
      "metadata": {
        "id": "Y1AURJUbq5f-"
      },
      "outputs": [],
      "source": [
        "import shutil\n",
        "import os"
      ]
    },
    {
      "cell_type": "markdown",
      "metadata": {
        "id": "HaFNOXGKemL3"
      },
      "source": [
        "This code block groups the images into a single folder. It defines the paths of the source folder <code>source_path</code> containing the images and the destination folder <code>destination_path</code> where the images will be copied. If the destination folder does not exist, it creates it. Then, it lists all files in the source folder and copies each file to the destination folder.\n",
        "\n",
        "Once all files are copied, it prints a message indicating that the files were copied successfully."
      ]
    },
    {
      "cell_type": "code",
      "execution_count": null,
      "metadata": {
        "colab": {
          "base_uri": "https://localhost:8080/"
        },
        "id": "fJKXwubetCbA",
        "outputId": "4af6fde5-c9cf-480d-f691-e6dee2ee2cbb"
      },
      "outputs": [
        {
          "name": "stdout",
          "output_type": "stream",
          "text": [
            "Files copied successfully.\n"
          ]
        }
      ],
      "source": [
        "# Define the paths of the source and destination folders\n",
        "source_path = \"/content/drive/MyDrive/Practica2/Playground-IA/shoes\"\n",
        "destination_path = \"/content/drive/MyDrive/Practica2/original_images/shoes\"\n",
        "\n",
        "# If the destination folder does not exist, create it\n",
        "if not os.path.exists(destination_path):\n",
        "    os.makedirs(destination_path)\n",
        "\n",
        "# List files in the source folder\n",
        "files = os.listdir(source_path)\n",
        "\n",
        "# Copy each file from the source folder to the destination folder\n",
        "for file in files:\n",
        "    source_file_path = os.path.join(source_path, file)\n",
        "    destination_file_path = os.path.join(destination_path, file)\n",
        "    shutil.copy(source_file_path, destination_file_path)\n",
        "\n",
        "print(\"Files copied successfully.\")"
      ]
    },
    {
      "cell_type": "markdown",
      "metadata": {
        "id": "yIHBscWeB7Xj"
      },
      "source": [
        "## Image Aumenting\n"
      ]
    },
    {
      "cell_type": "code",
      "execution_count": null,
      "metadata": {
        "id": "DUWMk759x6-d"
      },
      "outputs": [],
      "source": [
        "import shutil\n",
        "import os\n",
        "import cv2\n",
        "import numpy as np\n",
        "import random"
      ]
    },
    {
      "cell_type": "markdown",
      "metadata": {
        "id": "6_E4CmCHfBiD"
      },
      "source": [
        "### \"augment_image(original_image, save_path, file_name)\"\n",
        "\n",
        "This augment_image function performs data augmentation on an original image by applying various transformations. It adjusts brightness and contrast, applies blur, rotates by 30 degrees clockwise and counterclockwise, and returns a list of file paths pointing to these augmented images."
      ]
    },
    {
      "cell_type": "code",
      "execution_count": null,
      "metadata": {
        "id": "T9oxIOROVLdC"
      },
      "outputs": [],
      "source": [
        "def augment_image(original_image, save_path, file_name):\n",
        "  rows, cols, _ = original_image.shape\n",
        "\n",
        "  augmented_images = []\n",
        "\n",
        "  # Brightness and contrast adjustment\n",
        "  alpha = 1.5\n",
        "  beta = -50\n",
        "  brightness_contrast_image = cv2.convertScaleAbs(original_image, alpha=alpha, beta=beta)\n",
        "  brightness_contrast_path = os.path.join(save_path, f'{file_name}_brightness_contrast.png')\n",
        "  cv2.imwrite(brightness_contrast_path, brightness_contrast_image)\n",
        "  augmented_images.append(brightness_contrast_path)\n",
        "\n",
        "  # Apply blur\n",
        "  blur_val = 9\n",
        "  blurred_image = cv2.blur(original_image, (blur_val, blur_val))\n",
        "  blur_path = os.path.join(save_path, f'{file_name}_blurred.png')\n",
        "  cv2.imwrite(blur_path, blurred_image)\n",
        "  augmented_images.append(blur_path)\n",
        "\n",
        "  # Rotation 30 degrees\n",
        "  angle = 30\n",
        "  M_rotation = cv2.getRotationMatrix2D((cols // 2, rows // 2), angle, 1)\n",
        "  rotated_image = cv2.warpAffine(original_image, M_rotation, (cols, rows))\n",
        "  rotated_path = os.path.join(save_path, f'{file_name}_rotated_30.png')\n",
        "  cv2.imwrite(rotated_path, rotated_image)\n",
        "  augmented_images.append(rotated_path)\n",
        "\n",
        "  # Rotation -30 degrees\n",
        "  M_rotation = cv2.getRotationMatrix2D((cols // 2, rows // 2), -angle, 1)\n",
        "  rotated_image = cv2.warpAffine(original_image, M_rotation, (cols, rows))\n",
        "  rotated_path = os.path.join(save_path, f'{file_name}_rotated_-30.png')\n",
        "  cv2.imwrite(rotated_path, rotated_image)\n",
        "  augmented_images.append(rotated_path)\n",
        "\n",
        "  return augmented_images"
      ]
    },
    {
      "cell_type": "markdown",
      "metadata": {
        "id": "XsHX4WOYgyrV"
      },
      "source": [
        "Understood, the code processes all the images found in the specified subfolders and applies the <code>augment_image</code> function to them. At the end, it prints a message indicating that the augmented images have been saved in the same folder as the original images. This means that all the images found in the subfolders will be augmented, and the augmented images will be saved in the same locations as the original ones."
      ]
    },
    {
      "cell_type": "code",
      "execution_count": null,
      "metadata": {
        "colab": {
          "base_uri": "https://localhost:8080/"
        },
        "id": "XNlB7iu-VORj",
        "outputId": "c6f44934-c151-41e1-ae9f-d7e70e629b15"
      },
      "outputs": [
        {
          "name": "stdout",
          "output_type": "stream",
          "text": [
            "Augmented images saved in the same folder as the original images.\n"
          ]
        }
      ],
      "source": [
        "# Path to the folder containing the main folder 'images'\n",
        "main_folder_path = '/content/drive/MyDrive/Practica2/original_images'\n",
        "\n",
        "# List the subfolders inside the 'images' folder\n",
        "subfolders = ['hats', 'pants', 'shirt', 'shoes']\n",
        "\n",
        "# Valid image extensions\n",
        "valid_extensions = ['.jpg', '.jpeg', '.png', '.webp']  # You can add more extensions if necessary\n",
        "\n",
        "# Iterate through each subfolder\n",
        "for subfolder in subfolders:\n",
        "    # Path to the subfolder\n",
        "    folder_path = os.path.join(main_folder_path, subfolder)\n",
        "\n",
        "    # List files in the subfolder\n",
        "    files = os.listdir(folder_path)\n",
        "\n",
        "    # Iterate through each file in the subfolder\n",
        "    for file in files:\n",
        "        file_path = os.path.join(folder_path, file)\n",
        "\n",
        "        # Check if it's a file and has a valid image extension\n",
        "        if os.path.isfile(file_path) and os.path.splitext(file)[1].lower() in valid_extensions:\n",
        "            # Load the image\n",
        "            original_image = cv2.imread(file_path)\n",
        "\n",
        "            # Apply augmentation\n",
        "            file_name = os.path.splitext(file)[0]  # Get the file name without extension\n",
        "            augment_image(original_image, folder_path, file_name)\n",
        "\n",
        "print(\"Augmented images saved in the same folder as the original images.\")"
      ]
    },
    {
      "cell_type": "markdown",
      "metadata": {
        "id": "yavGT5D8hooT"
      },
      "source": [
        "This block of code counts the number of valid images in each subfolder and then prints the count for each of them."
      ]
    },
    {
      "cell_type": "code",
      "execution_count": null,
      "metadata": {
        "colab": {
          "base_uri": "https://localhost:8080/"
        },
        "id": "TWU1pNducXsO",
        "outputId": "e16cee19-b9ef-4c3a-a5cb-528906af0726"
      },
      "outputs": [
        {
          "name": "stdout",
          "output_type": "stream",
          "text": [
            "The total number of images in 'hats' is: 1275\n",
            "The total number of images in 'pants' is: 1275\n",
            "The total number of images in 'shirt' is: 1275\n",
            "The total number of images in 'shoes' is: 1275\n"
          ]
        }
      ],
      "source": [
        "# Iterate through each subfolder\n",
        "for subfolder in subfolders:\n",
        "    # Path to the subfolder\n",
        "    folder_path = os.path.join(main_folder_path, subfolder)\n",
        "\n",
        "    # Counter to store the number of images\n",
        "    image_count = 0\n",
        "\n",
        "    # List files in the subfolder\n",
        "    files = os.listdir(folder_path)\n",
        "\n",
        "    # Count the number of valid images in the subfolder\n",
        "    for file in files:\n",
        "        if os.path.isfile(os.path.join(folder_path, file)):\n",
        "            if os.path.splitext(file)[1].lower() in valid_extensions:\n",
        "                image_count += 1\n",
        "\n",
        "    # Store the image count for the subfolder in the dictionary\n",
        "    image_counts[subfolder] = image_count\n",
        "\n",
        "# Print the image counts for each subfolder\n",
        "for subfolder, count in image_counts.items():\n",
        "    print(f\"The total number of images in '{subfolder}' is: {count}\")"
      ]
    },
    {
      "cell_type": "markdown",
      "metadata": {
        "id": "dDp6nQ3lfyr1"
      },
      "source": [
        "## Pre-Processing"
      ]
    },
    {
      "cell_type": "markdown",
      "metadata": {
        "id": "-4nXAJQBiHRH"
      },
      "source": [
        "### \"preprocess_image(original_image)\"\n",
        "\n",
        "This preprocess_image function converts the original image to grayscale using <code>cv2.cvtColor(original_image, cv2.COLOR_BGR2GRAY)</code> and resizes the image to 28x28 pixels using <code>cv2.resize(gray_image, (28, 28))</code>."
      ]
    },
    {
      "cell_type": "code",
      "execution_count": null,
      "metadata": {
        "id": "qzUsZpxyf8Yh"
      },
      "outputs": [],
      "source": [
        "# Function to preprocess an image (convert to grayscale and resize)\n",
        "def preprocess_image(original_image):\n",
        "    # Convert to grayscale\n",
        "    gray_image = cv2.cvtColor(original_image, cv2.COLOR_BGR2GRAY)\n",
        "\n",
        "    # Resize to 25x25 pixels\n",
        "    resized_image = cv2.resize(gray_image, (28, 28))\n",
        "\n",
        "    return resized_image"
      ]
    },
    {
      "cell_type": "markdown",
      "metadata": {
        "id": "SqkgavdQiybu"
      },
      "source": [
        "This code iterates through all the specified subfolders, loads each image found in them, preprocesses it using the <code>preprocess_image</code> function, and saves the preprocessed images in a new separate folder. The preprocessing involves converting the images to grayscale and resizing them to 28x28 pixels. The printed message at the end indicates that all images have been preprocessed and saved in the separate folder."
      ]
    },
    {
      "cell_type": "code",
      "execution_count": null,
      "metadata": {
        "colab": {
          "base_uri": "https://localhost:8080/"
        },
        "id": "xyjc71d-f_wP",
        "outputId": "27b9986a-5dd4-4c7f-93ed-bacc7745b96a"
      },
      "outputs": [
        {
          "name": "stdout",
          "output_type": "stream",
          "text": [
            "Images preprocessed and saved in the separate folder.\n"
          ]
        }
      ],
      "source": [
        "# Path to the folder containing the main folder 'images'\n",
        "main_folder_path = '/content/drive/MyDrive/Practica2/original_images'\n",
        "\n",
        "# List the subfolders inside the 'images' folder\n",
        "subfolders = ['hats', 'pants', 'shirt', 'shoes']\n",
        "\n",
        "# Valid image extensions\n",
        "valid_extensions = ['.jpg', '.jpeg', '.png', '.webp']  # You can add more extensions if necessary\n",
        "\n",
        "# Path to the folder where preprocessed images will be saved\n",
        "output_folder_path = '/content/drive/MyDrive/Practica2/images_28'\n",
        "\n",
        "# Create the output folder if it doesn't exist\n",
        "if not os.path.exists(output_folder_path):\n",
        "    os.makedirs(output_folder_path)\n",
        "\n",
        "# Iterate through each subfolder\n",
        "for subfolder in subfolders:\n",
        "    # Path to the subfolder\n",
        "    folder_path = os.path.join(main_folder_path, subfolder)\n",
        "\n",
        "    # Path to the output subfolder\n",
        "    output_subfolder_path = os.path.join(output_folder_path, subfolder)\n",
        "\n",
        "    # Create the output subfolder if it doesn't exist\n",
        "    if not os.path.exists(output_subfolder_path):\n",
        "        os.makedirs(output_subfolder_path)\n",
        "\n",
        "    # List files in the subfolder\n",
        "    files = os.listdir(folder_path)\n",
        "\n",
        "    # Iterate through each file in the subfolder\n",
        "    for file in files:\n",
        "        file_path = os.path.join(folder_path, file)\n",
        "\n",
        "        # Check if it's a file and has a valid image extension\n",
        "        if os.path.isfile(file_path) and os.path.splitext(file)[1].lower() in valid_extensions:\n",
        "            # Load the image\n",
        "            original_image = cv2.imread(file_path)\n",
        "\n",
        "            # Preprocess the image\n",
        "            preprocessed_image = preprocess_image(original_image)\n",
        "\n",
        "            # Path to save the preprocessed image\n",
        "            output_file_path = os.path.join(output_subfolder_path, file)\n",
        "\n",
        "            # Save the preprocessed image\n",
        "            cv2.imwrite(output_file_path, preprocessed_image)\n",
        "\n",
        "print(\"Images preprocessed and saved in the separate folder.\")"
      ]
    },
    {
      "cell_type": "markdown",
      "metadata": {
        "id": "oRspDM-ri5av"
      },
      "source": [
        "### \"change_name_file()\"\n",
        "The <code>change_name_file</code> function is used to rename multiple files in a folder. In this case, it renames all the images in the folder <code>ruta_imagenes</code> starting from a specified number. Each image is renamed with an incremental number and the extension <code>.png</code>."
      ]
    },
    {
      "cell_type": "code",
      "execution_count": null,
      "metadata": {
        "id": "428R0NoiWJxf"
      },
      "outputs": [],
      "source": [
        "ruta_imagenes = '/content/drive/MyDrive/Practica2/images_28/shoes/'\n",
        "\n",
        "names=np.array(os.listdir(ruta_imagenes))\n",
        "\n",
        "#Function to rename multiple files\n",
        "def change_name_file():\n",
        "  i = 3825\n",
        "  for filename in names:\n",
        "    dst = str(i)+'.png'\n",
        "    src = ruta_imagenes + filename\n",
        "    dst = ruta_imagenes + dst\n",
        "    os.rename(src, dst)\n",
        "    i += 1\n",
        "change_name_file()"
      ]
    },
    {
      "cell_type": "markdown",
      "metadata": {
        "id": "xmoOvdu00wGR"
      },
      "source": [
        "# **K-Nearest Neighbors (KNN)**"
      ]
    },
    {
      "cell_type": "code",
      "execution_count": null,
      "metadata": {
        "id": "mX6u6L7-DD9K"
      },
      "outputs": [],
      "source": [
        "import shutil\n",
        "import os\n",
        "import cv2\n",
        "import numpy as np\n",
        "import matplotlib.pyplot as plt\n",
        "import random"
      ]
    },
    {
      "cell_type": "markdown",
      "metadata": {
        "id": "0xOAzXkBO6ah"
      },
      "source": [
        "First, it loops through each subfolder and reads each grayscale image within the subfolder using <code>cv2.read(image_path, cv2.IMREAD_GRAYSCALE)</code> and adds them to the list of <code>images</code>. The images are converted to a NumPy array <code>np. array</code> and tags are created for the images using <code>np.repeat</code>."
      ]
    },
    {
      "cell_type": "code",
      "execution_count": null,
      "metadata": {
        "id": "uhLvZeLb04FB"
      },
      "outputs": [],
      "source": [
        "# Path to the folder containing the main folder 'images'\n",
        "main_folder_path = '/content/drive/MyDrive/Practica2/images_28'\n",
        "\n",
        "# List the subfolders inside the 'images' folder\n",
        "subfolders = ['hats', 'pants', 'shirt', 'shoes']\n",
        "\n",
        "NUMBER_CLASSES = 4 #aquí\n",
        "images = [] #aquí\n",
        "\n",
        "# Iterate through each subfolder\n",
        "for subfolder in subfolders:\n",
        "    # Path to the subfolder\n",
        "    folder_path = os.path.join(main_folder_path, subfolder)\n",
        "\n",
        "    # List files in the subfolder\n",
        "    files = os.listdir(folder_path)\n",
        "\n",
        "    # Iterate through each file in the subfolder\n",
        "    for file in files:\n",
        "        file_path = os.path.join(folder_path, file)\n",
        "\n",
        "        original_image = cv2.imread(file_path, cv2.IMREAD_GRAYSCALE)\n",
        "\n",
        "        images.append(original_image)\n",
        "\n",
        "images = np.array(images)\n",
        "labels = np.repeat(np.arange(NUMBER_CLASSES), len(images) / NUMBER_CLASSES)"
      ]
    },
    {
      "cell_type": "markdown",
      "metadata": {
        "id": "WHvQ9is8SeDO"
      },
      "source": [
        "## \"raw_pixels(img)\"\n",
        "\n",
        "The function takes an image as input and returns the raw pixels of that image as features. The call to <code>img.flatten()</code> converts the pixel array of the image into a one-dimensional array. Then, for each image in the images list, this function is called to obtain the raw pixels, which are then converted to the <code>np.float32</code> data type. These feature descriptors are then added to the <code>raw_descriptors</code> list."
      ]
    },
    {
      "cell_type": "code",
      "execution_count": null,
      "metadata": {
        "id": "Sbw-4AzZ13YA"
      },
      "outputs": [],
      "source": [
        "def raw_pixels(img):\n",
        "    \"\"\"Return raw pixels as feature from the image\"\"\"\n",
        "    return img.flatten()\n",
        "\n",
        "# Compute the descriptors for all the images.\n",
        "# In this case, the raw pixels are the feature descriptors\n",
        "raw_descriptors = []\n",
        "for img in images:\n",
        "    raw_descriptors.append(np.float32(raw_pixels(img)))\n",
        "raw_descriptors = np.squeeze(raw_descriptors)"
      ]
    },
    {
      "cell_type": "markdown",
      "metadata": {
        "id": "JXbQK9qXTUBd"
      },
      "source": [
        "## \"get_accuracy(predictions, labels)\"\n",
        "\n",
        "The function calculates the model accuracy by comparing the model's predictions with the actual labels, determining how many predictions are correct relative to the total number of predictions made, and returning the accuracy as a percentage."
      ]
    },
    {
      "cell_type": "code",
      "execution_count": null,
      "metadata": {
        "id": "9V3X7TcY-fjh"
      },
      "outputs": [],
      "source": [
        "def get_accuracy(predictions, labels):\n",
        "    \"\"\"Returns the accuracy based on the coincidences between predictions and labels\"\"\"\n",
        "    accuracy = (np.squeeze(predictions) == labels).mean()\n",
        "    return accuracy * 100"
      ]
    },
    {
      "cell_type": "markdown",
      "metadata": {
        "id": "6YTpC9TrXvtM"
      },
      "source": [
        "## Data preparation and partitioning for the classification model."
      ]
    },
    {
      "cell_type": "markdown",
      "metadata": {
        "id": "v8cwJTPTV5sD"
      },
      "source": [
        "This block of code divides the indices of the images into training, testing, and validation datasets for each class of object, ensuring that the data is balanced and does not overlap between datasets.\n",
        "\n",
        "<code>np.random.choice()</code> is used to randomly select indices for the training and testing sets. The <code>replace=False</code> parameter ensures that the same index is not selected more than once, thus preventing data duplication.\n",
        "\n",
        "<code>np.setdiff1d()</code> is used to find the remaining indices that are not in the training set, thus assigning them to the validation set. This ensures that there is no duplication of indices among the training, testing, and validation datasets."
      ]
    },
    {
      "cell_type": "code",
      "execution_count": null,
      "metadata": {
        "id": "qGz7GdiXi6nk"
      },
      "outputs": [],
      "source": [
        "total_hat = np.arange(0,1275)\n",
        "train_hat = np.random.choice(range(0,1275), 765, replace=False)\n",
        "temp = np.setdiff1d(total_hat, train_hat)\n",
        "test_hat = np.random.choice(temp, 255, replace=False)\n",
        "val_hat = np.setdiff1d(temp, test_hat)\n",
        "\n",
        "total_pants = np.arange(1275,2550)\n",
        "train_pants = np.random.choice(range(1275,2550), 765, replace=False)\n",
        "temp = np.setdiff1d(total_pants, train_pants)\n",
        "test_pants = np.random.choice(temp, 255, replace=False)\n",
        "val_pants = np.setdiff1d(temp, test_pants)\n",
        "\n",
        "total_shirt = np.arange(2550,3825)\n",
        "train_shirt = np.random.choice(range(2550,3825), 765, replace=False)\n",
        "temp = np.setdiff1d(total_shirt, train_shirt)\n",
        "test_shirt = np.random.choice(temp, 255, replace=False)\n",
        "val_shirt = np.setdiff1d(temp, test_shirt)\n",
        "\n",
        "total_shoes = np.arange(3825,5100)\n",
        "train_shoes = np.random.choice(range(3825,5100), 765, replace=False)\n",
        "temp = np.setdiff1d(total_shoes, train_shoes)\n",
        "test_shoes = np.random.choice(temp, 255, replace=False)\n",
        "val_shoes = np.setdiff1d(temp, test_shoes)"
      ]
    },
    {
      "cell_type": "markdown",
      "metadata": {
        "id": "RBF5qwblXscu"
      },
      "source": [
        "This block of code is responsible for concatenating the index sets of different object classes to form a single set of indices for each of the training, testing, and validation sets. Specifically: <code>train_numbers</code>, <code>test_numbers</code>, and <code>val_numbers</code>."
      ]
    },
    {
      "cell_type": "code",
      "execution_count": null,
      "metadata": {
        "id": "1fXos_tL4WuH"
      },
      "outputs": [],
      "source": [
        "train_numbers = np.concatenate((train_hat, train_pants), axis=None)\n",
        "train_numbers = np.concatenate((train_numbers, train_shirt), axis=None)\n",
        "train_numbers = np.concatenate((train_numbers, train_shoes), axis=None)\n",
        "\n",
        "test_numbers = np.concatenate((test_hat, test_pants), axis=None)\n",
        "test_numbers = np.concatenate((test_numbers, test_shirt), axis=None)\n",
        "test_numbers = np.concatenate((test_numbers, test_shoes), axis=None)\n",
        "\n",
        "val_numbers = np.concatenate((val_hat, val_pants), axis=None)\n",
        "val_numbers = np.concatenate((val_numbers, val_shirt), axis=None)\n",
        "val_numbers = np.concatenate((val_numbers, val_shoes), axis=None)"
      ]
    },
    {
      "cell_type": "markdown",
      "metadata": {
        "id": "o835X6P0Y7Oz"
      },
      "source": [
        "The last block of code assigns the corresponding feature descriptors and labels to the training, testing, and validation datasets using the index sets <code>train_numbers</code>, <code>test_numbers</code>, and <code>val_numbers</code>."
      ]
    },
    {
      "cell_type": "code",
      "execution_count": null,
      "metadata": {
        "id": "vsk9Wx-y8nwH"
      },
      "outputs": [],
      "source": [
        "raw_descriptors_train = raw_descriptors[train_numbers]\n",
        "raw_descriptors_test = raw_descriptors[test_numbers]\n",
        "raw_descriptors_val = raw_descriptors[val_numbers]\n",
        "\n",
        "labels_train = labels[train_numbers]\n",
        "labels_test = labels[test_numbers]\n",
        "labels_val = labels[val_numbers]"
      ]
    },
    {
      "cell_type": "markdown",
      "metadata": {
        "id": "OrzZ6lSlZIYt"
      },
      "source": [
        "## Train the KNN with Raw descriptors.\n"
      ]
    },
    {
      "cell_type": "code",
      "execution_count": null,
      "metadata": {
        "colab": {
          "base_uri": "https://localhost:8080/"
        },
        "id": "2RtqM8Fko-ZA",
        "outputId": "315bdaa4-e79c-44f0-933a-5eca1303ebc6"
      },
      "outputs": [
        {
          "name": "stdout",
          "output_type": "stream",
          "text": [
            "Training KNN model - raw pixels as features\n",
            "Accuracy: 71.17647058823529\n"
          ]
        }
      ],
      "source": [
        "# Train the KNN model:\n",
        "print('Training KNN model - raw pixels as features')\n",
        "knn = cv2.ml.KNearest_create()\n",
        "knn.train(raw_descriptors_train, cv2.ml.ROW_SAMPLE, labels_train)\n",
        "\n",
        "# Test the created model:\n",
        "k = 3\n",
        "ret, result, neighbours, dist = knn.findNearest(raw_descriptors_test, k)\n",
        "\n",
        "# Compute the accuracy:\n",
        "acc = get_accuracy(result, labels_test)\n",
        "print(\"Accuracy: {}\".format(acc))"
      ]
    },
    {
      "cell_type": "markdown",
      "metadata": {
        "id": "vm0iJmQ_a-3K"
      },
      "source": [
        "This code block trains a KNN model and then evaluates its accuracy on the test data for different values of k. Subsequently, it employs Matplotlib to visualize how the model's accuracy varies with different values of k. The accuracy is depicted on the y-axis, while the values of k are displayed on the x-axis. Each line on the graph represents the model's accuracy for a specific training percentage. The legend indicates the percentage of training used."
      ]
    },
    {
      "cell_type": "code",
      "execution_count": null,
      "metadata": {
        "colab": {
          "base_uri": "https://localhost:8080/",
          "height": 698
        },
        "id": "pBWcbYt3_FF2",
        "outputId": "9ab00460-ef21-46d0-9318-151575aaedc0"
      },
      "outputs": [
        {
          "name": "stdout",
          "output_type": "stream",
          "text": [
            "Training KNN model - raw pixels as features\n",
            " 80.69\n",
            " 70.39\n",
            " 71.18\n",
            " 68.92\n",
            " 66.47\n",
            " 66.86\n",
            " 66.57\n",
            " 67.65\n",
            " 66.57\n"
          ]
        },
        {
          "data": {
            "image/png": "[encoded data removed]",
            "text/plain": [
              "<Figure size 1200x500 with 1 Axes>"
            ]
          },
          "metadata": {},
          "output_type": "display_data"
        }
      ],
      "source": [
        "from collections import defaultdict\n",
        "# Train the KNN model:\n",
        "print('Training KNN model - raw pixels as features')\n",
        "knn = cv2.ml.KNearest_create()\n",
        "knn.train(raw_descriptors_train, cv2.ml.ROW_SAMPLE, labels_train)\n",
        "\n",
        "# Create a dictionary to store the accuracy when testing:\n",
        "results = defaultdict(list)\n",
        "\n",
        "for k in np.arange(1, 10):\n",
        "    ret, result, neighbours, dist = knn.findNearest(raw_descriptors_test, k)\n",
        "    acc = get_accuracy(result, labels_test)\n",
        "    print(\" {}\".format(\"%.2f\" % acc))\n",
        "    results['50'].append(acc)\n",
        "\n",
        "# Show all results using matplotlib capabilities:\n",
        "# Create the dimensions of the figure and set title:\n",
        "fig = plt.figure(figsize=(12, 5))\n",
        "plt.suptitle(\"k-NN handwritten digits recognition\", fontsize=14, fontweight='bold')\n",
        "fig.patch.set_facecolor('silver')\n",
        "\n",
        "ax = plt.subplot(1, 1, 1)\n",
        "ax.set_xlim(0, 10)\n",
        "dim = np.arange(1, 10)\n",
        "\n",
        "for key in results:\n",
        "    ax.plot(dim, results[key], linestyle='--', marker='o', label=\"60%\")\n",
        "\n",
        "plt.legend(loc='upper left', title=\"% training\")\n",
        "plt.title('Accuracy of the K-NN model varying k')\n",
        "plt.xlabel(\"number of k\")\n",
        "plt.ylabel(\"accuracy\")\n",
        "plt.show()"
      ]
    },
    {
      "cell_type": "markdown",
      "metadata": {
        "id": "YQTSXA9FBBpK"
      },
      "source": [
        "### Validation."
      ]
    },
    {
      "cell_type": "markdown",
      "metadata": {
        "id": "UmXL0aoqbhN5"
      },
      "source": [
        "This code utilizes the previously trained KNN model to predict the labels of the validation data <code>raw_descriptors_val</code>. Then, it calculates the model's accuracy on the validation data using the predicted labels <code>result_val</code> and the actual labels <code>labels_val</code>. Finally, it prints the calculated validation accuracy."
      ]
    },
    {
      "cell_type": "code",
      "execution_count": null,
      "metadata": {
        "colab": {
          "base_uri": "https://localhost:8080/"
        },
        "id": "B0mRs0sYZ5MX",
        "outputId": "6afe641a-cbde-42d6-c214-2a0e6123d527"
      },
      "outputs": [
        {
          "name": "stdout",
          "output_type": "stream",
          "text": [
            "Validation Accuracy: 71.47058823529412\n"
          ]
        }
      ],
      "source": [
        "k = 3\n",
        "# This code utilizes the trained KNN model to predict the labels of the validation data.\n",
        "ret_val, result_val, neighbours_val, dist_val = knn.findNearest(raw_descriptors_val, k)\n",
        "\n",
        "# Calculate the accuracy using the predicted labels and the actual labels of the validation data.\n",
        "acc_val = get_accuracy(result_val, labels_val)\n",
        "print(\"Validation Accuracy: {}\".format(acc_val))"
      ]
    },
    {
      "cell_type": "markdown",
      "metadata": {
        "id": "4piMtBArb8De"
      },
      "source": [
        "This code prints the predicted labels alongside the corresponding image numbers for the validation dataset. It iterates over each prediction and true label pair, obtained by zipping together <code>result_val.flatten()</code> predicted labels and <code>labels_val</code> true labels. For each pair, it prints the image number <code>taken from val_numbers</code>, the predicted label, and the true label."
      ]
    },
    {
      "cell_type": "code",
      "execution_count": null,
      "metadata": {
        "colab": {
          "base_uri": "https://localhost:8080/"
        },
        "id": "uV6KntJ1ae5V",
        "outputId": "efad60ac-926a-425f-b175-8b1c663abe4a"
      },
      "outputs": [
        {
          "name": "stdout",
          "output_type": "stream",
          "text": [
            "Image 0: Predicted Label: 0, True Label: 0\n",
            "Image 2: Predicted Label: 0, True Label: 0\n",
            "Image 8: Predicted Label: 0, True Label: 0\n",
            "Image 9: Predicted Label: 0, True Label: 0\n",
            "Image 10: Predicted Label: 0, True Label: 0\n",
            "Image 11: Predicted Label: 0, True Label: 0\n",
            "Image 14: Predicted Label: 0, True Label: 0\n",
            "Image 18: Predicted Label: 2, True Label: 0\n",
            "Image 19: Predicted Label: 2, True Label: 0\n",
            "Image 37: Predicted Label: 0, True Label: 0\n",
            "Image 45: Predicted Label: 0, True Label: 0\n",
            "Image 49: Predicted Label: 3, True Label: 0\n",
            "Image 61: Predicted Label: 0, True Label: 0\n",
            "Image 63: Predicted Label: 2, True Label: 0\n",
            "Image 69: Predicted Label: 3, True Label: 0\n",
            "Image 78: Predicted Label: 0, True Label: 0\n",
            "Image 79: Predicted Label: 2, True Label: 0\n",
            "Image 83: Predicted Label: 2, True Label: 0\n",
            "Image 88: Predicted Label: 2, True Label: 0\n",
            "Image 99: Predicted Label: 1, True Label: 0\n",
            "Image 108: Predicted Label: 2, True Label: 0\n",
            "Image 112: Predicted Label: 3, True Label: 0\n",
            "Image 118: Predicted Label: 0, True Label: 0\n",
            "Image 121: Predicted Label: 0, True Label: 0\n",
            "Image 126: Predicted Label: 0, True Label: 0\n",
            "Image 141: Predicted Label: 1, True Label: 0\n",
            "Image 142: Predicted Label: 1, True Label: 0\n",
            "Image 154: Predicted Label: 0, True Label: 0\n",
            "Image 156: Predicted Label: 3, True Label: 0\n",
            "Image 164: Predicted Label: 2, True Label: 0\n",
            "Image 167: Predicted Label: 0, True Label: 0\n",
            "Image 169: Predicted Label: 0, True Label: 0\n",
            "Image 170: Predicted Label: 0, True Label: 0\n",
            "Image 183: Predicted Label: 0, True Label: 0\n",
            "Image 184: Predicted Label: 0, True Label: 0\n",
            "Image 188: Predicted Label: 2, True Label: 0\n",
            "Image 192: Predicted Label: 0, True Label: 0\n",
            "Image 193: Predicted Label: 0, True Label: 0\n",
            "Image 195: Predicted Label: 2, True Label: 0\n",
            "Image 204: Predicted Label: 2, True Label: 0\n",
            "Image 212: Predicted Label: 0, True Label: 0\n",
            "Image 213: Predicted Label: 0, True Label: 0\n",
            "Image 225: Predicted Label: 2, True Label: 0\n",
            "Image 231: Predicted Label: 2, True Label: 0\n",
            "Image 234: Predicted Label: 0, True Label: 0\n",
            "Image 237: Predicted Label: 0, True Label: 0\n",
            "Image 240: Predicted Label: 0, True Label: 0\n",
            "Image 252: Predicted Label: 0, True Label: 0\n",
            "Image 257: Predicted Label: 0, True Label: 0\n",
            "Image 259: Predicted Label: 2, True Label: 0\n",
            "Image 263: Predicted Label: 1, True Label: 0\n",
            "Image 265: Predicted Label: 0, True Label: 0\n",
            "Image 273: Predicted Label: 0, True Label: 0\n",
            "Image 282: Predicted Label: 3, True Label: 0\n",
            "Image 287: Predicted Label: 2, True Label: 0\n",
            "Image 288: Predicted Label: 2, True Label: 0\n",
            "Image 293: Predicted Label: 0, True Label: 0\n",
            "Image 298: Predicted Label: 0, True Label: 0\n",
            "Image 301: Predicted Label: 0, True Label: 0\n",
            "Image 304: Predicted Label: 2, True Label: 0\n",
            "Image 318: Predicted Label: 0, True Label: 0\n",
            "Image 324: Predicted Label: 2, True Label: 0\n",
            "Image 328: Predicted Label: 0, True Label: 0\n",
            "Image 338: Predicted Label: 0, True Label: 0\n",
            "Image 344: Predicted Label: 2, True Label: 0\n",
            "Image 349: Predicted Label: 3, True Label: 0\n",
            "Image 352: Predicted Label: 1, True Label: 0\n",
            "Image 353: Predicted Label: 0, True Label: 0\n",
            "Image 358: Predicted Label: 0, True Label: 0\n",
            "Image 365: Predicted Label: 0, True Label: 0\n",
            "Image 372: Predicted Label: 2, True Label: 0\n",
            "Image 373: Predicted Label: 0, True Label: 0\n",
            "Image 375: Predicted Label: 3, True Label: 0\n",
            "Image 376: Predicted Label: 3, True Label: 0\n",
            "Image 388: Predicted Label: 0, True Label: 0\n",
            "Image 398: Predicted Label: 0, True Label: 0\n",
            "Image 399: Predicted Label: 0, True Label: 0\n",
            "Image 408: Predicted Label: 0, True Label: 0\n",
            "Image 425: Predicted Label: 0, True Label: 0\n",
            "Image 431: Predicted Label: 0, True Label: 0\n",
            "Image 432: Predicted Label: 0, True Label: 0\n",
            "Image 436: Predicted Label: 1, True Label: 0\n",
            "Image 438: Predicted Label: 0, True Label: 0\n",
            "Image 450: Predicted Label: 0, True Label: 0\n",
            "Image 453: Predicted Label: 0, True Label: 0\n",
            "Image 455: Predicted Label: 0, True Label: 0\n",
            "Image 461: Predicted Label: 1, True Label: 0\n",
            "Image 464: Predicted Label: 1, True Label: 0\n",
            "Image 467: Predicted Label: 2, True Label: 0\n",
            "Image 468: Predicted Label: 0, True Label: 0\n",
            "Image 469: Predicted Label: 0, True Label: 0\n",
            "Image 472: Predicted Label: 1, True Label: 0\n",
            "Image 477: Predicted Label: 0, True Label: 0\n",
            "Image 488: Predicted Label: 0, True Label: 0\n",
            "Image 493: Predicted Label: 0, True Label: 0\n",
            "Image 496: Predicted Label: 0, True Label: 0\n",
            "Image 507: Predicted Label: 0, True Label: 0\n",
            "Image 509: Predicted Label: 0, True Label: 0\n",
            "Image 511: Predicted Label: 0, True Label: 0\n",
            "Image 512: Predicted Label: 1, True Label: 0\n",
            "Image 520: Predicted Label: 0, True Label: 0\n",
            "Image 532: Predicted Label: 0, True Label: 0\n",
            "Image 537: Predicted Label: 0, True Label: 0\n",
            "Image 542: Predicted Label: 0, True Label: 0\n",
            "Image 544: Predicted Label: 1, True Label: 0\n",
            "Image 546: Predicted Label: 1, True Label: 0\n",
            "Image 549: Predicted Label: 0, True Label: 0\n",
            "Image 553: Predicted Label: 2, True Label: 0\n",
            "Image 555: Predicted Label: 2, True Label: 0\n",
            "Image 563: Predicted Label: 1, True Label: 0\n",
            "Image 573: Predicted Label: 0, True Label: 0\n",
            "Image 580: Predicted Label: 1, True Label: 0\n",
            "Image 582: Predicted Label: 0, True Label: 0\n",
            "Image 584: Predicted Label: 0, True Label: 0\n",
            "Image 588: Predicted Label: 0, True Label: 0\n",
            "Image 592: Predicted Label: 0, True Label: 0\n",
            "Image 602: Predicted Label: 0, True Label: 0\n",
            "Image 606: Predicted Label: 0, True Label: 0\n",
            "Image 608: Predicted Label: 2, True Label: 0\n",
            "Image 614: Predicted Label: 1, True Label: 0\n",
            "Image 619: Predicted Label: 0, True Label: 0\n",
            "Image 627: Predicted Label: 3, True Label: 0\n",
            "Image 629: Predicted Label: 0, True Label: 0\n",
            "Image 633: Predicted Label: 2, True Label: 0\n",
            "Image 637: Predicted Label: 0, True Label: 0\n",
            "Image 641: Predicted Label: 0, True Label: 0\n",
            "Image 645: Predicted Label: 0, True Label: 0\n",
            "Image 649: Predicted Label: 0, True Label: 0\n",
            "Image 650: Predicted Label: 0, True Label: 0\n",
            "Image 656: Predicted Label: 0, True Label: 0\n",
            "Image 665: Predicted Label: 0, True Label: 0\n",
            "Image 668: Predicted Label: 0, True Label: 0\n",
            "Image 671: Predicted Label: 3, True Label: 0\n",
            "Image 676: Predicted Label: 0, True Label: 0\n",
            "Image 680: Predicted Label: 2, True Label: 0\n",
            "Image 699: Predicted Label: 0, True Label: 0\n",
            "Image 701: Predicted Label: 0, True Label: 0\n",
            "Image 707: Predicted Label: 0, True Label: 0\n",
            "Image 742: Predicted Label: 0, True Label: 0\n",
            "Image 743: Predicted Label: 2, True Label: 0\n",
            "Image 746: Predicted Label: 0, True Label: 0\n",
            "Image 747: Predicted Label: 0, True Label: 0\n",
            "Image 754: Predicted Label: 0, True Label: 0\n",
            "Image 760: Predicted Label: 0, True Label: 0\n",
            "Image 761: Predicted Label: 0, True Label: 0\n",
            "Image 770: Predicted Label: 0, True Label: 0\n",
            "Image 772: Predicted Label: 0, True Label: 0\n",
            "Image 773: Predicted Label: 0, True Label: 0\n",
            "Image 776: Predicted Label: 0, True Label: 0\n",
            "Image 777: Predicted Label: 0, True Label: 0\n",
            "Image 778: Predicted Label: 0, True Label: 0\n",
            "Image 802: Predicted Label: 0, True Label: 0\n",
            "Image 806: Predicted Label: 0, True Label: 0\n",
            "Image 813: Predicted Label: 0, True Label: 0\n",
            "Image 816: Predicted Label: 0, True Label: 0\n",
            "Image 820: Predicted Label: 0, True Label: 0\n",
            "Image 826: Predicted Label: 0, True Label: 0\n",
            "Image 827: Predicted Label: 0, True Label: 0\n",
            "Image 846: Predicted Label: 0, True Label: 0\n",
            "Image 850: Predicted Label: 0, True Label: 0\n",
            "Image 851: Predicted Label: 0, True Label: 0\n",
            "Image 853: Predicted Label: 0, True Label: 0\n",
            "Image 856: Predicted Label: 0, True Label: 0\n",
            "Image 858: Predicted Label: 0, True Label: 0\n",
            "Image 866: Predicted Label: 0, True Label: 0\n",
            "Image 869: Predicted Label: 3, True Label: 0\n",
            "Image 870: Predicted Label: 2, True Label: 0\n",
            "Image 872: Predicted Label: 0, True Label: 0\n",
            "Image 885: Predicted Label: 0, True Label: 0\n",
            "Image 886: Predicted Label: 0, True Label: 0\n",
            "Image 894: Predicted Label: 0, True Label: 0\n",
            "Image 897: Predicted Label: 0, True Label: 0\n",
            "Image 898: Predicted Label: 0, True Label: 0\n",
            "Image 900: Predicted Label: 0, True Label: 0\n",
            "Image 909: Predicted Label: 0, True Label: 0\n",
            "Image 914: Predicted Label: 0, True Label: 0\n",
            "Image 921: Predicted Label: 0, True Label: 0\n",
            "Image 925: Predicted Label: 0, True Label: 0\n",
            "Image 926: Predicted Label: 0, True Label: 0\n",
            "Image 927: Predicted Label: 0, True Label: 0\n",
            "Image 931: Predicted Label: 0, True Label: 0\n",
            "Image 932: Predicted Label: 0, True Label: 0\n",
            "Image 936: Predicted Label: 0, True Label: 0\n",
            "Image 937: Predicted Label: 0, True Label: 0\n",
            "Image 939: Predicted Label: 2, True Label: 0\n",
            "Image 940: Predicted Label: 0, True Label: 0\n",
            "Image 947: Predicted Label: 0, True Label: 0\n",
            "Image 953: Predicted Label: 0, True Label: 0\n",
            "Image 956: Predicted Label: 0, True Label: 0\n",
            "Image 968: Predicted Label: 0, True Label: 0\n",
            "Image 971: Predicted Label: 0, True Label: 0\n",
            "Image 977: Predicted Label: 0, True Label: 0\n",
            "Image 983: Predicted Label: 0, True Label: 0\n",
            "Image 986: Predicted Label: 1, True Label: 0\n",
            "Image 987: Predicted Label: 1, True Label: 0\n",
            "Image 990: Predicted Label: 0, True Label: 0\n",
            "Image 995: Predicted Label: 0, True Label: 0\n",
            "Image 996: Predicted Label: 0, True Label: 0\n",
            "Image 1012: Predicted Label: 0, True Label: 0\n",
            "Image 1016: Predicted Label: 0, True Label: 0\n",
            "Image 1021: Predicted Label: 0, True Label: 0\n",
            "Image 1029: Predicted Label: 3, True Label: 0\n",
            "Image 1033: Predicted Label: 3, True Label: 0\n",
            "Image 1043: Predicted Label: 1, True Label: 0\n",
            "Image 1046: Predicted Label: 3, True Label: 0\n",
            "Image 1047: Predicted Label: 0, True Label: 0\n",
            "Image 1048: Predicted Label: 0, True Label: 0\n",
            "Image 1053: Predicted Label: 2, True Label: 0\n",
            "Image 1060: Predicted Label: 0, True Label: 0\n",
            "Image 1067: Predicted Label: 0, True Label: 0\n",
            "Image 1071: Predicted Label: 0, True Label: 0\n",
            "Image 1073: Predicted Label: 0, True Label: 0\n",
            "Image 1102: Predicted Label: 3, True Label: 0\n",
            "Image 1107: Predicted Label: 2, True Label: 0\n",
            "Image 1112: Predicted Label: 3, True Label: 0\n",
            "Image 1116: Predicted Label: 0, True Label: 0\n",
            "Image 1119: Predicted Label: 0, True Label: 0\n",
            "Image 1120: Predicted Label: 0, True Label: 0\n",
            "Image 1122: Predicted Label: 0, True Label: 0\n",
            "Image 1132: Predicted Label: 0, True Label: 0\n",
            "Image 1133: Predicted Label: 0, True Label: 0\n",
            "Image 1135: Predicted Label: 2, True Label: 0\n",
            "Image 1137: Predicted Label: 0, True Label: 0\n",
            "Image 1150: Predicted Label: 0, True Label: 0\n",
            "Image 1152: Predicted Label: 0, True Label: 0\n",
            "Image 1156: Predicted Label: 0, True Label: 0\n",
            "Image 1158: Predicted Label: 0, True Label: 0\n",
            "Image 1162: Predicted Label: 0, True Label: 0\n",
            "Image 1163: Predicted Label: 0, True Label: 0\n",
            "Image 1170: Predicted Label: 0, True Label: 0\n",
            "Image 1173: Predicted Label: 0, True Label: 0\n",
            "Image 1177: Predicted Label: 0, True Label: 0\n",
            "Image 1181: Predicted Label: 0, True Label: 0\n",
            "Image 1183: Predicted Label: 0, True Label: 0\n",
            "Image 1193: Predicted Label: 3, True Label: 0\n",
            "Image 1195: Predicted Label: 0, True Label: 0\n",
            "Image 1198: Predicted Label: 0, True Label: 0\n",
            "Image 1199: Predicted Label: 0, True Label: 0\n",
            "Image 1208: Predicted Label: 0, True Label: 0\n",
            "Image 1211: Predicted Label: 0, True Label: 0\n",
            "Image 1213: Predicted Label: 0, True Label: 0\n",
            "Image 1220: Predicted Label: 0, True Label: 0\n",
            "Image 1227: Predicted Label: 0, True Label: 0\n",
            "Image 1230: Predicted Label: 0, True Label: 0\n",
            "Image 1238: Predicted Label: 0, True Label: 0\n",
            "Image 1242: Predicted Label: 0, True Label: 0\n",
            "Image 1246: Predicted Label: 0, True Label: 0\n",
            "Image 1249: Predicted Label: 0, True Label: 0\n",
            "Image 1254: Predicted Label: 0, True Label: 0\n",
            "Image 1260: Predicted Label: 0, True Label: 0\n",
            "Image 1264: Predicted Label: 0, True Label: 0\n",
            "Image 1266: Predicted Label: 0, True Label: 0\n",
            "Image 1269: Predicted Label: 0, True Label: 0\n",
            "Image 1273: Predicted Label: 2, True Label: 0\n",
            "Image 1274: Predicted Label: 0, True Label: 0\n",
            "Image 1300: Predicted Label: 1, True Label: 1\n",
            "Image 1305: Predicted Label: 1, True Label: 1\n",
            "Image 1308: Predicted Label: 1, True Label: 1\n",
            "Image 1315: Predicted Label: 1, True Label: 1\n",
            "Image 1316: Predicted Label: 1, True Label: 1\n",
            "Image 1320: Predicted Label: 1, True Label: 1\n",
            "Image 1325: Predicted Label: 1, True Label: 1\n",
            "Image 1339: Predicted Label: 1, True Label: 1\n",
            "Image 1340: Predicted Label: 1, True Label: 1\n",
            "Image 1350: Predicted Label: 1, True Label: 1\n",
            "Image 1368: Predicted Label: 1, True Label: 1\n",
            "Image 1370: Predicted Label: 1, True Label: 1\n",
            "Image 1379: Predicted Label: 1, True Label: 1\n",
            "Image 1382: Predicted Label: 1, True Label: 1\n",
            "Image 1388: Predicted Label: 1, True Label: 1\n",
            "Image 1397: Predicted Label: 1, True Label: 1\n",
            "Image 1407: Predicted Label: 1, True Label: 1\n",
            "Image 1426: Predicted Label: 0, True Label: 1\n",
            "Image 1429: Predicted Label: 1, True Label: 1\n",
            "Image 1430: Predicted Label: 1, True Label: 1\n",
            "Image 1433: Predicted Label: 1, True Label: 1\n",
            "Image 1434: Predicted Label: 1, True Label: 1\n",
            "Image 1435: Predicted Label: 1, True Label: 1\n",
            "Image 1445: Predicted Label: 2, True Label: 1\n",
            "Image 1448: Predicted Label: 1, True Label: 1\n",
            "Image 1461: Predicted Label: 1, True Label: 1\n",
            "Image 1469: Predicted Label: 1, True Label: 1\n",
            "Image 1477: Predicted Label: 1, True Label: 1\n",
            "Image 1479: Predicted Label: 1, True Label: 1\n",
            "Image 1482: Predicted Label: 1, True Label: 1\n",
            "Image 1484: Predicted Label: 1, True Label: 1\n",
            "Image 1486: Predicted Label: 1, True Label: 1\n",
            "Image 1493: Predicted Label: 1, True Label: 1\n",
            "Image 1498: Predicted Label: 0, True Label: 1\n",
            "Image 1499: Predicted Label: 2, True Label: 1\n",
            "Image 1500: Predicted Label: 1, True Label: 1\n",
            "Image 1504: Predicted Label: 1, True Label: 1\n",
            "Image 1511: Predicted Label: 1, True Label: 1\n",
            "Image 1516: Predicted Label: 1, True Label: 1\n",
            "Image 1521: Predicted Label: 1, True Label: 1\n",
            "Image 1523: Predicted Label: 1, True Label: 1\n",
            "Image 1524: Predicted Label: 1, True Label: 1\n",
            "Image 1526: Predicted Label: 1, True Label: 1\n",
            "Image 1527: Predicted Label: 1, True Label: 1\n",
            "Image 1532: Predicted Label: 1, True Label: 1\n",
            "Image 1534: Predicted Label: 1, True Label: 1\n",
            "Image 1545: Predicted Label: 1, True Label: 1\n",
            "Image 1557: Predicted Label: 1, True Label: 1\n",
            "Image 1558: Predicted Label: 1, True Label: 1\n",
            "Image 1577: Predicted Label: 1, True Label: 1\n",
            "Image 1578: Predicted Label: 1, True Label: 1\n",
            "Image 1579: Predicted Label: 1, True Label: 1\n",
            "Image 1584: Predicted Label: 1, True Label: 1\n",
            "Image 1591: Predicted Label: 1, True Label: 1\n",
            "Image 1603: Predicted Label: 1, True Label: 1\n",
            "Image 1605: Predicted Label: 1, True Label: 1\n",
            "Image 1608: Predicted Label: 1, True Label: 1\n",
            "Image 1613: Predicted Label: 1, True Label: 1\n",
            "Image 1617: Predicted Label: 1, True Label: 1\n",
            "Image 1618: Predicted Label: 1, True Label: 1\n",
            "Image 1622: Predicted Label: 1, True Label: 1\n",
            "Image 1627: Predicted Label: 1, True Label: 1\n",
            "Image 1628: Predicted Label: 1, True Label: 1\n",
            "Image 1635: Predicted Label: 1, True Label: 1\n",
            "Image 1636: Predicted Label: 1, True Label: 1\n",
            "Image 1637: Predicted Label: 1, True Label: 1\n",
            "Image 1642: Predicted Label: 1, True Label: 1\n",
            "Image 1652: Predicted Label: 1, True Label: 1\n",
            "Image 1657: Predicted Label: 1, True Label: 1\n",
            "Image 1658: Predicted Label: 1, True Label: 1\n",
            "Image 1666: Predicted Label: 1, True Label: 1\n",
            "Image 1667: Predicted Label: 1, True Label: 1\n",
            "Image 1669: Predicted Label: 1, True Label: 1\n",
            "Image 1670: Predicted Label: 1, True Label: 1\n",
            "Image 1672: Predicted Label: 1, True Label: 1\n",
            "Image 1673: Predicted Label: 1, True Label: 1\n",
            "Image 1677: Predicted Label: 1, True Label: 1\n",
            "Image 1681: Predicted Label: 1, True Label: 1\n",
            "Image 1685: Predicted Label: 1, True Label: 1\n",
            "Image 1686: Predicted Label: 1, True Label: 1\n",
            "Image 1688: Predicted Label: 1, True Label: 1\n",
            "Image 1693: Predicted Label: 1, True Label: 1\n",
            "Image 1701: Predicted Label: 1, True Label: 1\n",
            "Image 1707: Predicted Label: 1, True Label: 1\n",
            "Image 1709: Predicted Label: 1, True Label: 1\n",
            "Image 1714: Predicted Label: 1, True Label: 1\n",
            "Image 1718: Predicted Label: 1, True Label: 1\n",
            "Image 1720: Predicted Label: 1, True Label: 1\n",
            "Image 1722: Predicted Label: 1, True Label: 1\n",
            "Image 1726: Predicted Label: 1, True Label: 1\n",
            "Image 1730: Predicted Label: 0, True Label: 1\n",
            "Image 1731: Predicted Label: 1, True Label: 1\n",
            "Image 1733: Predicted Label: 1, True Label: 1\n",
            "Image 1736: Predicted Label: 1, True Label: 1\n",
            "Image 1752: Predicted Label: 1, True Label: 1\n",
            "Image 1753: Predicted Label: 1, True Label: 1\n",
            "Image 1754: Predicted Label: 1, True Label: 1\n",
            "Image 1765: Predicted Label: 1, True Label: 1\n",
            "Image 1769: Predicted Label: 1, True Label: 1\n",
            "Image 1777: Predicted Label: 1, True Label: 1\n",
            "Image 1784: Predicted Label: 1, True Label: 1\n",
            "Image 1796: Predicted Label: 1, True Label: 1\n",
            "Image 1799: Predicted Label: 0, True Label: 1\n",
            "Image 1813: Predicted Label: 1, True Label: 1\n",
            "Image 1817: Predicted Label: 1, True Label: 1\n",
            "Image 1826: Predicted Label: 2, True Label: 1\n",
            "Image 1827: Predicted Label: 1, True Label: 1\n",
            "Image 1832: Predicted Label: 1, True Label: 1\n",
            "Image 1833: Predicted Label: 1, True Label: 1\n",
            "Image 1836: Predicted Label: 1, True Label: 1\n",
            "Image 1840: Predicted Label: 1, True Label: 1\n",
            "Image 1846: Predicted Label: 1, True Label: 1\n",
            "Image 1850: Predicted Label: 1, True Label: 1\n",
            "Image 1858: Predicted Label: 1, True Label: 1\n",
            "Image 1863: Predicted Label: 1, True Label: 1\n",
            "Image 1866: Predicted Label: 2, True Label: 1\n",
            "Image 1867: Predicted Label: 1, True Label: 1\n",
            "Image 1886: Predicted Label: 1, True Label: 1\n",
            "Image 1887: Predicted Label: 1, True Label: 1\n",
            "Image 1902: Predicted Label: 1, True Label: 1\n",
            "Image 1903: Predicted Label: 1, True Label: 1\n",
            "Image 1916: Predicted Label: 1, True Label: 1\n",
            "Image 1918: Predicted Label: 1, True Label: 1\n",
            "Image 1921: Predicted Label: 1, True Label: 1\n",
            "Image 1922: Predicted Label: 1, True Label: 1\n",
            "Image 1924: Predicted Label: 1, True Label: 1\n",
            "Image 1928: Predicted Label: 1, True Label: 1\n",
            "Image 1934: Predicted Label: 1, True Label: 1\n",
            "Image 1937: Predicted Label: 2, True Label: 1\n",
            "Image 1938: Predicted Label: 2, True Label: 1\n",
            "Image 1939: Predicted Label: 2, True Label: 1\n",
            "Image 1940: Predicted Label: 1, True Label: 1\n",
            "Image 1945: Predicted Label: 2, True Label: 1\n",
            "Image 1946: Predicted Label: 1, True Label: 1\n",
            "Image 1949: Predicted Label: 1, True Label: 1\n",
            "Image 1952: Predicted Label: 2, True Label: 1\n",
            "Image 1954: Predicted Label: 1, True Label: 1\n",
            "Image 1958: Predicted Label: 1, True Label: 1\n",
            "Image 1966: Predicted Label: 0, True Label: 1\n",
            "Image 1968: Predicted Label: 2, True Label: 1\n",
            "Image 1977: Predicted Label: 0, True Label: 1\n",
            "Image 1991: Predicted Label: 1, True Label: 1\n",
            "Image 1992: Predicted Label: 1, True Label: 1\n",
            "Image 1993: Predicted Label: 1, True Label: 1\n",
            "Image 1999: Predicted Label: 1, True Label: 1\n",
            "Image 2006: Predicted Label: 2, True Label: 1\n",
            "Image 2019: Predicted Label: 1, True Label: 1\n",
            "Image 2023: Predicted Label: 1, True Label: 1\n",
            "Image 2024: Predicted Label: 1, True Label: 1\n",
            "Image 2040: Predicted Label: 1, True Label: 1\n",
            "Image 2046: Predicted Label: 1, True Label: 1\n",
            "Image 2050: Predicted Label: 0, True Label: 1\n",
            "Image 2051: Predicted Label: 1, True Label: 1\n",
            "Image 2068: Predicted Label: 1, True Label: 1\n",
            "Image 2070: Predicted Label: 1, True Label: 1\n",
            "Image 2071: Predicted Label: 1, True Label: 1\n",
            "Image 2072: Predicted Label: 1, True Label: 1\n",
            "Image 2079: Predicted Label: 1, True Label: 1\n",
            "Image 2083: Predicted Label: 1, True Label: 1\n",
            "Image 2084: Predicted Label: 1, True Label: 1\n",
            "Image 2085: Predicted Label: 1, True Label: 1\n",
            "Image 2091: Predicted Label: 1, True Label: 1\n",
            "Image 2092: Predicted Label: 1, True Label: 1\n",
            "Image 2093: Predicted Label: 1, True Label: 1\n",
            "Image 2094: Predicted Label: 1, True Label: 1\n",
            "Image 2111: Predicted Label: 1, True Label: 1\n",
            "Image 2116: Predicted Label: 2, True Label: 1\n",
            "Image 2121: Predicted Label: 1, True Label: 1\n",
            "Image 2137: Predicted Label: 1, True Label: 1\n",
            "Image 2141: Predicted Label: 1, True Label: 1\n",
            "Image 2153: Predicted Label: 1, True Label: 1\n",
            "Image 2167: Predicted Label: 1, True Label: 1\n",
            "Image 2171: Predicted Label: 1, True Label: 1\n",
            "Image 2173: Predicted Label: 1, True Label: 1\n",
            "Image 2175: Predicted Label: 1, True Label: 1\n",
            "Image 2185: Predicted Label: 1, True Label: 1\n",
            "Image 2194: Predicted Label: 1, True Label: 1\n",
            "Image 2198: Predicted Label: 3, True Label: 1\n",
            "Image 2200: Predicted Label: 1, True Label: 1\n",
            "Image 2201: Predicted Label: 2, True Label: 1\n",
            "Image 2203: Predicted Label: 1, True Label: 1\n",
            "Image 2218: Predicted Label: 1, True Label: 1\n",
            "Image 2232: Predicted Label: 1, True Label: 1\n",
            "Image 2238: Predicted Label: 1, True Label: 1\n",
            "Image 2239: Predicted Label: 2, True Label: 1\n",
            "Image 2245: Predicted Label: 1, True Label: 1\n",
            "Image 2246: Predicted Label: 1, True Label: 1\n",
            "Image 2247: Predicted Label: 2, True Label: 1\n",
            "Image 2249: Predicted Label: 0, True Label: 1\n",
            "Image 2254: Predicted Label: 1, True Label: 1\n",
            "Image 2271: Predicted Label: 1, True Label: 1\n",
            "Image 2272: Predicted Label: 1, True Label: 1\n",
            "Image 2274: Predicted Label: 1, True Label: 1\n",
            "Image 2277: Predicted Label: 1, True Label: 1\n",
            "Image 2288: Predicted Label: 1, True Label: 1\n",
            "Image 2296: Predicted Label: 1, True Label: 1\n",
            "Image 2298: Predicted Label: 1, True Label: 1\n",
            "Image 2302: Predicted Label: 0, True Label: 1\n",
            "Image 2307: Predicted Label: 1, True Label: 1\n",
            "Image 2308: Predicted Label: 1, True Label: 1\n",
            "Image 2311: Predicted Label: 1, True Label: 1\n",
            "Image 2317: Predicted Label: 1, True Label: 1\n",
            "Image 2327: Predicted Label: 1, True Label: 1\n",
            "Image 2332: Predicted Label: 1, True Label: 1\n",
            "Image 2336: Predicted Label: 1, True Label: 1\n",
            "Image 2341: Predicted Label: 1, True Label: 1\n",
            "Image 2343: Predicted Label: 1, True Label: 1\n",
            "Image 2346: Predicted Label: 1, True Label: 1\n",
            "Image 2351: Predicted Label: 1, True Label: 1\n",
            "Image 2353: Predicted Label: 1, True Label: 1\n",
            "Image 2355: Predicted Label: 1, True Label: 1\n",
            "Image 2358: Predicted Label: 3, True Label: 1\n",
            "Image 2360: Predicted Label: 1, True Label: 1\n",
            "Image 2363: Predicted Label: 1, True Label: 1\n",
            "Image 2370: Predicted Label: 1, True Label: 1\n",
            "Image 2371: Predicted Label: 1, True Label: 1\n",
            "Image 2373: Predicted Label: 2, True Label: 1\n",
            "Image 2374: Predicted Label: 1, True Label: 1\n",
            "Image 2382: Predicted Label: 1, True Label: 1\n",
            "Image 2388: Predicted Label: 1, True Label: 1\n",
            "Image 2391: Predicted Label: 1, True Label: 1\n",
            "Image 2393: Predicted Label: 1, True Label: 1\n",
            "Image 2398: Predicted Label: 1, True Label: 1\n",
            "Image 2401: Predicted Label: 1, True Label: 1\n",
            "Image 2408: Predicted Label: 1, True Label: 1\n",
            "Image 2410: Predicted Label: 1, True Label: 1\n",
            "Image 2424: Predicted Label: 1, True Label: 1\n",
            "Image 2433: Predicted Label: 0, True Label: 1\n",
            "Image 2437: Predicted Label: 2, True Label: 1\n",
            "Image 2446: Predicted Label: 1, True Label: 1\n",
            "Image 2449: Predicted Label: 2, True Label: 1\n",
            "Image 2451: Predicted Label: 1, True Label: 1\n",
            "Image 2452: Predicted Label: 1, True Label: 1\n",
            "Image 2454: Predicted Label: 1, True Label: 1\n",
            "Image 2455: Predicted Label: 0, True Label: 1\n",
            "Image 2457: Predicted Label: 2, True Label: 1\n",
            "Image 2463: Predicted Label: 1, True Label: 1\n",
            "Image 2468: Predicted Label: 1, True Label: 1\n",
            "Image 2473: Predicted Label: 1, True Label: 1\n",
            "Image 2481: Predicted Label: 1, True Label: 1\n",
            "Image 2495: Predicted Label: 1, True Label: 1\n",
            "Image 2498: Predicted Label: 1, True Label: 1\n",
            "Image 2502: Predicted Label: 1, True Label: 1\n",
            "Image 2504: Predicted Label: 1, True Label: 1\n",
            "Image 2507: Predicted Label: 1, True Label: 1\n",
            "Image 2509: Predicted Label: 0, True Label: 1\n",
            "Image 2510: Predicted Label: 0, True Label: 1\n",
            "Image 2511: Predicted Label: 1, True Label: 1\n",
            "Image 2515: Predicted Label: 1, True Label: 1\n",
            "Image 2527: Predicted Label: 1, True Label: 1\n",
            "Image 2531: Predicted Label: 1, True Label: 1\n",
            "Image 2536: Predicted Label: 1, True Label: 1\n",
            "Image 2537: Predicted Label: 1, True Label: 1\n",
            "Image 2545: Predicted Label: 0, True Label: 1\n",
            "Image 2548: Predicted Label: 1, True Label: 1\n",
            "Image 2550: Predicted Label: 2, True Label: 2\n",
            "Image 2554: Predicted Label: 2, True Label: 2\n",
            "Image 2558: Predicted Label: 2, True Label: 2\n",
            "Image 2560: Predicted Label: 2, True Label: 2\n",
            "Image 2567: Predicted Label: 2, True Label: 2\n",
            "Image 2568: Predicted Label: 2, True Label: 2\n",
            "Image 2574: Predicted Label: 2, True Label: 2\n",
            "Image 2580: Predicted Label: 2, True Label: 2\n",
            "Image 2582: Predicted Label: 2, True Label: 2\n",
            "Image 2586: Predicted Label: 2, True Label: 2\n",
            "Image 2588: Predicted Label: 2, True Label: 2\n",
            "Image 2589: Predicted Label: 2, True Label: 2\n",
            "Image 2593: Predicted Label: 2, True Label: 2\n",
            "Image 2605: Predicted Label: 2, True Label: 2\n",
            "Image 2606: Predicted Label: 2, True Label: 2\n",
            "Image 2609: Predicted Label: 2, True Label: 2\n",
            "Image 2610: Predicted Label: 2, True Label: 2\n",
            "Image 2622: Predicted Label: 2, True Label: 2\n",
            "Image 2629: Predicted Label: 2, True Label: 2\n",
            "Image 2630: Predicted Label: 2, True Label: 2\n",
            "Image 2634: Predicted Label: 2, True Label: 2\n",
            "Image 2637: Predicted Label: 2, True Label: 2\n",
            "Image 2638: Predicted Label: 2, True Label: 2\n",
            "Image 2640: Predicted Label: 2, True Label: 2\n",
            "Image 2641: Predicted Label: 2, True Label: 2\n",
            "Image 2643: Predicted Label: 2, True Label: 2\n",
            "Image 2645: Predicted Label: 0, True Label: 2\n",
            "Image 2648: Predicted Label: 2, True Label: 2\n",
            "Image 2650: Predicted Label: 2, True Label: 2\n",
            "Image 2652: Predicted Label: 2, True Label: 2\n",
            "Image 2660: Predicted Label: 2, True Label: 2\n",
            "Image 2664: Predicted Label: 2, True Label: 2\n",
            "Image 2666: Predicted Label: 2, True Label: 2\n",
            "Image 2669: Predicted Label: 1, True Label: 2\n",
            "Image 2670: Predicted Label: 0, True Label: 2\n",
            "Image 2671: Predicted Label: 0, True Label: 2\n",
            "Image 2672: Predicted Label: 3, True Label: 2\n",
            "Image 2676: Predicted Label: 2, True Label: 2\n",
            "Image 2680: Predicted Label: 2, True Label: 2\n",
            "Image 2682: Predicted Label: 2, True Label: 2\n",
            "Image 2689: Predicted Label: 1, True Label: 2\n",
            "Image 2694: Predicted Label: 2, True Label: 2\n",
            "Image 2697: Predicted Label: 2, True Label: 2\n",
            "Image 2703: Predicted Label: 2, True Label: 2\n",
            "Image 2708: Predicted Label: 2, True Label: 2\n",
            "Image 2726: Predicted Label: 1, True Label: 2\n",
            "Image 2727: Predicted Label: 2, True Label: 2\n",
            "Image 2743: Predicted Label: 2, True Label: 2\n",
            "Image 2745: Predicted Label: 2, True Label: 2\n",
            "Image 2751: Predicted Label: 2, True Label: 2\n",
            "Image 2757: Predicted Label: 2, True Label: 2\n",
            "Image 2760: Predicted Label: 1, True Label: 2\n",
            "Image 2763: Predicted Label: 2, True Label: 2\n",
            "Image 2766: Predicted Label: 2, True Label: 2\n",
            "Image 2769: Predicted Label: 0, True Label: 2\n",
            "Image 2780: Predicted Label: 2, True Label: 2\n",
            "Image 2789: Predicted Label: 1, True Label: 2\n",
            "Image 2790: Predicted Label: 2, True Label: 2\n",
            "Image 2793: Predicted Label: 2, True Label: 2\n",
            "Image 2798: Predicted Label: 2, True Label: 2\n",
            "Image 2810: Predicted Label: 2, True Label: 2\n",
            "Image 2814: Predicted Label: 0, True Label: 2\n",
            "Image 2826: Predicted Label: 0, True Label: 2\n",
            "Image 2828: Predicted Label: 1, True Label: 2\n",
            "Image 2831: Predicted Label: 2, True Label: 2\n",
            "Image 2833: Predicted Label: 2, True Label: 2\n",
            "Image 2834: Predicted Label: 2, True Label: 2\n",
            "Image 2839: Predicted Label: 2, True Label: 2\n",
            "Image 2843: Predicted Label: 2, True Label: 2\n",
            "Image 2848: Predicted Label: 2, True Label: 2\n",
            "Image 2854: Predicted Label: 2, True Label: 2\n",
            "Image 2859: Predicted Label: 2, True Label: 2\n",
            "Image 2861: Predicted Label: 2, True Label: 2\n",
            "Image 2862: Predicted Label: 2, True Label: 2\n",
            "Image 2864: Predicted Label: 2, True Label: 2\n",
            "Image 2866: Predicted Label: 0, True Label: 2\n",
            "Image 2868: Predicted Label: 1, True Label: 2\n",
            "Image 2872: Predicted Label: 2, True Label: 2\n",
            "Image 2878: Predicted Label: 2, True Label: 2\n",
            "Image 2879: Predicted Label: 2, True Label: 2\n",
            "Image 2885: Predicted Label: 2, True Label: 2\n",
            "Image 2888: Predicted Label: 2, True Label: 2\n",
            "Image 2889: Predicted Label: 2, True Label: 2\n",
            "Image 2900: Predicted Label: 2, True Label: 2\n",
            "Image 2904: Predicted Label: 2, True Label: 2\n",
            "Image 2907: Predicted Label: 2, True Label: 2\n",
            "Image 2911: Predicted Label: 2, True Label: 2\n",
            "Image 2915: Predicted Label: 2, True Label: 2\n",
            "Image 2918: Predicted Label: 2, True Label: 2\n",
            "Image 2926: Predicted Label: 2, True Label: 2\n",
            "Image 2928: Predicted Label: 2, True Label: 2\n",
            "Image 2938: Predicted Label: 2, True Label: 2\n",
            "Image 2941: Predicted Label: 0, True Label: 2\n",
            "Image 2947: Predicted Label: 2, True Label: 2\n",
            "Image 2948: Predicted Label: 2, True Label: 2\n",
            "Image 2952: Predicted Label: 2, True Label: 2\n",
            "Image 2954: Predicted Label: 0, True Label: 2\n",
            "Image 2965: Predicted Label: 2, True Label: 2\n",
            "Image 2968: Predicted Label: 2, True Label: 2\n",
            "Image 2974: Predicted Label: 2, True Label: 2\n",
            "Image 2979: Predicted Label: 0, True Label: 2\n",
            "Image 2981: Predicted Label: 2, True Label: 2\n",
            "Image 2985: Predicted Label: 2, True Label: 2\n",
            "Image 2997: Predicted Label: 2, True Label: 2\n",
            "Image 3010: Predicted Label: 2, True Label: 2\n",
            "Image 3014: Predicted Label: 2, True Label: 2\n",
            "Image 3020: Predicted Label: 2, True Label: 2\n",
            "Image 3025: Predicted Label: 0, True Label: 2\n",
            "Image 3026: Predicted Label: 0, True Label: 2\n",
            "Image 3031: Predicted Label: 1, True Label: 2\n",
            "Image 3034: Predicted Label: 2, True Label: 2\n",
            "Image 3044: Predicted Label: 2, True Label: 2\n",
            "Image 3045: Predicted Label: 2, True Label: 2\n",
            "Image 3050: Predicted Label: 1, True Label: 2\n",
            "Image 3067: Predicted Label: 0, True Label: 2\n",
            "Image 3071: Predicted Label: 1, True Label: 2\n",
            "Image 3078: Predicted Label: 2, True Label: 2\n",
            "Image 3080: Predicted Label: 2, True Label: 2\n",
            "Image 3090: Predicted Label: 2, True Label: 2\n",
            "Image 3094: Predicted Label: 2, True Label: 2\n",
            "Image 3099: Predicted Label: 2, True Label: 2\n",
            "Image 3100: Predicted Label: 2, True Label: 2\n",
            "Image 3105: Predicted Label: 2, True Label: 2\n",
            "Image 3118: Predicted Label: 3, True Label: 2\n",
            "Image 3121: Predicted Label: 2, True Label: 2\n",
            "Image 3130: Predicted Label: 2, True Label: 2\n",
            "Image 3133: Predicted Label: 2, True Label: 2\n",
            "Image 3137: Predicted Label: 2, True Label: 2\n",
            "Image 3139: Predicted Label: 2, True Label: 2\n",
            "Image 3144: Predicted Label: 2, True Label: 2\n",
            "Image 3149: Predicted Label: 2, True Label: 2\n",
            "Image 3154: Predicted Label: 2, True Label: 2\n",
            "Image 3155: Predicted Label: 2, True Label: 2\n",
            "Image 3157: Predicted Label: 2, True Label: 2\n",
            "Image 3158: Predicted Label: 2, True Label: 2\n",
            "Image 3161: Predicted Label: 2, True Label: 2\n",
            "Image 3168: Predicted Label: 2, True Label: 2\n",
            "Image 3171: Predicted Label: 2, True Label: 2\n",
            "Image 3175: Predicted Label: 1, True Label: 2\n",
            "Image 3176: Predicted Label: 2, True Label: 2\n",
            "Image 3185: Predicted Label: 1, True Label: 2\n",
            "Image 3197: Predicted Label: 2, True Label: 2\n",
            "Image 3207: Predicted Label: 2, True Label: 2\n",
            "Image 3213: Predicted Label: 2, True Label: 2\n",
            "Image 3218: Predicted Label: 0, True Label: 2\n",
            "Image 3219: Predicted Label: 0, True Label: 2\n",
            "Image 3221: Predicted Label: 2, True Label: 2\n",
            "Image 3223: Predicted Label: 2, True Label: 2\n",
            "Image 3245: Predicted Label: 2, True Label: 2\n",
            "Image 3252: Predicted Label: 2, True Label: 2\n",
            "Image 3261: Predicted Label: 1, True Label: 2\n",
            "Image 3275: Predicted Label: 2, True Label: 2\n",
            "Image 3277: Predicted Label: 0, True Label: 2\n",
            "Image 3280: Predicted Label: 2, True Label: 2\n",
            "Image 3292: Predicted Label: 2, True Label: 2\n",
            "Image 3302: Predicted Label: 2, True Label: 2\n",
            "Image 3309: Predicted Label: 2, True Label: 2\n",
            "Image 3312: Predicted Label: 2, True Label: 2\n",
            "Image 3314: Predicted Label: 2, True Label: 2\n",
            "Image 3323: Predicted Label: 2, True Label: 2\n",
            "Image 3349: Predicted Label: 2, True Label: 2\n",
            "Image 3352: Predicted Label: 2, True Label: 2\n",
            "Image 3357: Predicted Label: 2, True Label: 2\n",
            "Image 3360: Predicted Label: 2, True Label: 2\n",
            "Image 3363: Predicted Label: 2, True Label: 2\n",
            "Image 3366: Predicted Label: 2, True Label: 2\n",
            "Image 3368: Predicted Label: 2, True Label: 2\n",
            "Image 3380: Predicted Label: 2, True Label: 2\n",
            "Image 3382: Predicted Label: 2, True Label: 2\n",
            "Image 3387: Predicted Label: 2, True Label: 2\n",
            "Image 3397: Predicted Label: 2, True Label: 2\n",
            "Image 3409: Predicted Label: 2, True Label: 2\n",
            "Image 3411: Predicted Label: 2, True Label: 2\n",
            "Image 3424: Predicted Label: 2, True Label: 2\n",
            "Image 3428: Predicted Label: 2, True Label: 2\n",
            "Image 3430: Predicted Label: 2, True Label: 2\n",
            "Image 3432: Predicted Label: 2, True Label: 2\n",
            "Image 3437: Predicted Label: 2, True Label: 2\n",
            "Image 3438: Predicted Label: 2, True Label: 2\n",
            "Image 3454: Predicted Label: 2, True Label: 2\n",
            "Image 3462: Predicted Label: 2, True Label: 2\n",
            "Image 3470: Predicted Label: 2, True Label: 2\n",
            "Image 3477: Predicted Label: 2, True Label: 2\n",
            "Image 3482: Predicted Label: 2, True Label: 2\n",
            "Image 3483: Predicted Label: 2, True Label: 2\n",
            "Image 3485: Predicted Label: 2, True Label: 2\n",
            "Image 3493: Predicted Label: 2, True Label: 2\n",
            "Image 3494: Predicted Label: 2, True Label: 2\n",
            "Image 3496: Predicted Label: 2, True Label: 2\n",
            "Image 3501: Predicted Label: 0, True Label: 2\n",
            "Image 3503: Predicted Label: 2, True Label: 2\n",
            "Image 3511: Predicted Label: 2, True Label: 2\n",
            "Image 3513: Predicted Label: 2, True Label: 2\n",
            "Image 3520: Predicted Label: 2, True Label: 2\n",
            "Image 3527: Predicted Label: 2, True Label: 2\n",
            "Image 3529: Predicted Label: 2, True Label: 2\n",
            "Image 3538: Predicted Label: 0, True Label: 2\n",
            "Image 3541: Predicted Label: 0, True Label: 2\n",
            "Image 3542: Predicted Label: 2, True Label: 2\n",
            "Image 3545: Predicted Label: 0, True Label: 2\n",
            "Image 3555: Predicted Label: 2, True Label: 2\n",
            "Image 3562: Predicted Label: 2, True Label: 2\n",
            "Image 3565: Predicted Label: 2, True Label: 2\n",
            "Image 3566: Predicted Label: 2, True Label: 2\n",
            "Image 3568: Predicted Label: 2, True Label: 2\n",
            "Image 3582: Predicted Label: 2, True Label: 2\n",
            "Image 3594: Predicted Label: 2, True Label: 2\n",
            "Image 3600: Predicted Label: 2, True Label: 2\n",
            "Image 3601: Predicted Label: 1, True Label: 2\n",
            "Image 3607: Predicted Label: 2, True Label: 2\n",
            "Image 3617: Predicted Label: 2, True Label: 2\n",
            "Image 3618: Predicted Label: 2, True Label: 2\n",
            "Image 3632: Predicted Label: 2, True Label: 2\n",
            "Image 3633: Predicted Label: 2, True Label: 2\n",
            "Image 3635: Predicted Label: 2, True Label: 2\n",
            "Image 3637: Predicted Label: 2, True Label: 2\n",
            "Image 3642: Predicted Label: 2, True Label: 2\n",
            "Image 3645: Predicted Label: 2, True Label: 2\n",
            "Image 3649: Predicted Label: 2, True Label: 2\n",
            "Image 3654: Predicted Label: 2, True Label: 2\n",
            "Image 3658: Predicted Label: 2, True Label: 2\n",
            "Image 3671: Predicted Label: 2, True Label: 2\n",
            "Image 3675: Predicted Label: 2, True Label: 2\n",
            "Image 3677: Predicted Label: 0, True Label: 2\n",
            "Image 3679: Predicted Label: 2, True Label: 2\n",
            "Image 3681: Predicted Label: 2, True Label: 2\n",
            "Image 3682: Predicted Label: 2, True Label: 2\n",
            "Image 3687: Predicted Label: 2, True Label: 2\n",
            "Image 3692: Predicted Label: 1, True Label: 2\n",
            "Image 3697: Predicted Label: 2, True Label: 2\n",
            "Image 3702: Predicted Label: 3, True Label: 2\n",
            "Image 3703: Predicted Label: 0, True Label: 2\n",
            "Image 3707: Predicted Label: 2, True Label: 2\n",
            "Image 3708: Predicted Label: 2, True Label: 2\n",
            "Image 3721: Predicted Label: 2, True Label: 2\n",
            "Image 3737: Predicted Label: 2, True Label: 2\n",
            "Image 3739: Predicted Label: 2, True Label: 2\n",
            "Image 3742: Predicted Label: 2, True Label: 2\n",
            "Image 3752: Predicted Label: 2, True Label: 2\n",
            "Image 3753: Predicted Label: 2, True Label: 2\n",
            "Image 3760: Predicted Label: 2, True Label: 2\n",
            "Image 3761: Predicted Label: 2, True Label: 2\n",
            "Image 3762: Predicted Label: 2, True Label: 2\n",
            "Image 3769: Predicted Label: 2, True Label: 2\n",
            "Image 3771: Predicted Label: 2, True Label: 2\n",
            "Image 3785: Predicted Label: 2, True Label: 2\n",
            "Image 3792: Predicted Label: 2, True Label: 2\n",
            "Image 3793: Predicted Label: 2, True Label: 2\n",
            "Image 3795: Predicted Label: 2, True Label: 2\n",
            "Image 3811: Predicted Label: 2, True Label: 2\n",
            "Image 3812: Predicted Label: 2, True Label: 2\n",
            "Image 3813: Predicted Label: 2, True Label: 2\n",
            "Image 3819: Predicted Label: 2, True Label: 2\n",
            "Image 3822: Predicted Label: 2, True Label: 2\n",
            "Image 3823: Predicted Label: 2, True Label: 2\n",
            "Image 3830: Predicted Label: 1, True Label: 3\n",
            "Image 3833: Predicted Label: 3, True Label: 3\n",
            "Image 3836: Predicted Label: 0, True Label: 3\n",
            "Image 3837: Predicted Label: 0, True Label: 3\n",
            "Image 3839: Predicted Label: 3, True Label: 3\n",
            "Image 3841: Predicted Label: 1, True Label: 3\n",
            "Image 3845: Predicted Label: 1, True Label: 3\n",
            "Image 3848: Predicted Label: 0, True Label: 3\n",
            "Image 3854: Predicted Label: 3, True Label: 3\n",
            "Image 3865: Predicted Label: 2, True Label: 3\n",
            "Image 3877: Predicted Label: 0, True Label: 3\n",
            "Image 3879: Predicted Label: 3, True Label: 3\n",
            "Image 3887: Predicted Label: 0, True Label: 3\n",
            "Image 3891: Predicted Label: 0, True Label: 3\n",
            "Image 3894: Predicted Label: 3, True Label: 3\n",
            "Image 3912: Predicted Label: 3, True Label: 3\n",
            "Image 3914: Predicted Label: 3, True Label: 3\n",
            "Image 3917: Predicted Label: 0, True Label: 3\n",
            "Image 3922: Predicted Label: 1, True Label: 3\n",
            "Image 3925: Predicted Label: 0, True Label: 3\n",
            "Image 3928: Predicted Label: 3, True Label: 3\n",
            "Image 3937: Predicted Label: 3, True Label: 3\n",
            "Image 3939: Predicted Label: 3, True Label: 3\n",
            "Image 3943: Predicted Label: 0, True Label: 3\n",
            "Image 3952: Predicted Label: 2, True Label: 3\n",
            "Image 3960: Predicted Label: 3, True Label: 3\n",
            "Image 3968: Predicted Label: 1, True Label: 3\n",
            "Image 3970: Predicted Label: 0, True Label: 3\n",
            "Image 3973: Predicted Label: 0, True Label: 3\n",
            "Image 3974: Predicted Label: 2, True Label: 3\n",
            "Image 3977: Predicted Label: 2, True Label: 3\n",
            "Image 3978: Predicted Label: 3, True Label: 3\n",
            "Image 3982: Predicted Label: 3, True Label: 3\n",
            "Image 3985: Predicted Label: 0, True Label: 3\n",
            "Image 3992: Predicted Label: 1, True Label: 3\n",
            "Image 3993: Predicted Label: 2, True Label: 3\n",
            "Image 3994: Predicted Label: 1, True Label: 3\n",
            "Image 3995: Predicted Label: 1, True Label: 3\n",
            "Image 4013: Predicted Label: 0, True Label: 3\n",
            "Image 4018: Predicted Label: 3, True Label: 3\n",
            "Image 4021: Predicted Label: 1, True Label: 3\n",
            "Image 4022: Predicted Label: 3, True Label: 3\n",
            "Image 4025: Predicted Label: 0, True Label: 3\n",
            "Image 4029: Predicted Label: 1, True Label: 3\n",
            "Image 4039: Predicted Label: 3, True Label: 3\n",
            "Image 4045: Predicted Label: 0, True Label: 3\n",
            "Image 4047: Predicted Label: 2, True Label: 3\n",
            "Image 4057: Predicted Label: 2, True Label: 3\n",
            "Image 4066: Predicted Label: 0, True Label: 3\n",
            "Image 4069: Predicted Label: 1, True Label: 3\n",
            "Image 4071: Predicted Label: 1, True Label: 3\n",
            "Image 4079: Predicted Label: 3, True Label: 3\n",
            "Image 4088: Predicted Label: 0, True Label: 3\n",
            "Image 4095: Predicted Label: 3, True Label: 3\n",
            "Image 4098: Predicted Label: 0, True Label: 3\n",
            "Image 4104: Predicted Label: 2, True Label: 3\n",
            "Image 4109: Predicted Label: 1, True Label: 3\n",
            "Image 4129: Predicted Label: 0, True Label: 3\n",
            "Image 4130: Predicted Label: 1, True Label: 3\n",
            "Image 4131: Predicted Label: 1, True Label: 3\n",
            "Image 4132: Predicted Label: 2, True Label: 3\n",
            "Image 4140: Predicted Label: 2, True Label: 3\n",
            "Image 4143: Predicted Label: 3, True Label: 3\n",
            "Image 4144: Predicted Label: 2, True Label: 3\n",
            "Image 4146: Predicted Label: 3, True Label: 3\n",
            "Image 4153: Predicted Label: 2, True Label: 3\n",
            "Image 4159: Predicted Label: 3, True Label: 3\n",
            "Image 4161: Predicted Label: 1, True Label: 3\n",
            "Image 4162: Predicted Label: 1, True Label: 3\n",
            "Image 4180: Predicted Label: 2, True Label: 3\n",
            "Image 4187: Predicted Label: 3, True Label: 3\n",
            "Image 4190: Predicted Label: 1, True Label: 3\n",
            "Image 4191: Predicted Label: 2, True Label: 3\n",
            "Image 4200: Predicted Label: 2, True Label: 3\n",
            "Image 4202: Predicted Label: 0, True Label: 3\n",
            "Image 4207: Predicted Label: 0, True Label: 3\n",
            "Image 4209: Predicted Label: 2, True Label: 3\n",
            "Image 4210: Predicted Label: 1, True Label: 3\n",
            "Image 4212: Predicted Label: 0, True Label: 3\n",
            "Image 4213: Predicted Label: 0, True Label: 3\n",
            "Image 4220: Predicted Label: 0, True Label: 3\n",
            "Image 4221: Predicted Label: 0, True Label: 3\n",
            "Image 4224: Predicted Label: 2, True Label: 3\n",
            "Image 4244: Predicted Label: 0, True Label: 3\n",
            "Image 4251: Predicted Label: 1, True Label: 3\n",
            "Image 4268: Predicted Label: 2, True Label: 3\n",
            "Image 4272: Predicted Label: 0, True Label: 3\n",
            "Image 4282: Predicted Label: 0, True Label: 3\n",
            "Image 4283: Predicted Label: 0, True Label: 3\n",
            "Image 4288: Predicted Label: 1, True Label: 3\n",
            "Image 4290: Predicted Label: 2, True Label: 3\n",
            "Image 4291: Predicted Label: 2, True Label: 3\n",
            "Image 4292: Predicted Label: 0, True Label: 3\n",
            "Image 4294: Predicted Label: 3, True Label: 3\n",
            "Image 4298: Predicted Label: 0, True Label: 3\n",
            "Image 4302: Predicted Label: 3, True Label: 3\n",
            "Image 4310: Predicted Label: 3, True Label: 3\n",
            "Image 4311: Predicted Label: 0, True Label: 3\n",
            "Image 4329: Predicted Label: 3, True Label: 3\n",
            "Image 4336: Predicted Label: 3, True Label: 3\n",
            "Image 4339: Predicted Label: 3, True Label: 3\n",
            "Image 4342: Predicted Label: 0, True Label: 3\n",
            "Image 4347: Predicted Label: 3, True Label: 3\n",
            "Image 4350: Predicted Label: 3, True Label: 3\n",
            "Image 4362: Predicted Label: 0, True Label: 3\n",
            "Image 4370: Predicted Label: 0, True Label: 3\n",
            "Image 4375: Predicted Label: 3, True Label: 3\n",
            "Image 4378: Predicted Label: 0, True Label: 3\n",
            "Image 4384: Predicted Label: 2, True Label: 3\n",
            "Image 4389: Predicted Label: 3, True Label: 3\n",
            "Image 4392: Predicted Label: 0, True Label: 3\n",
            "Image 4395: Predicted Label: 3, True Label: 3\n",
            "Image 4398: Predicted Label: 3, True Label: 3\n",
            "Image 4402: Predicted Label: 3, True Label: 3\n",
            "Image 4406: Predicted Label: 0, True Label: 3\n",
            "Image 4407: Predicted Label: 3, True Label: 3\n",
            "Image 4408: Predicted Label: 3, True Label: 3\n",
            "Image 4410: Predicted Label: 3, True Label: 3\n",
            "Image 4413: Predicted Label: 3, True Label: 3\n",
            "Image 4416: Predicted Label: 3, True Label: 3\n",
            "Image 4435: Predicted Label: 3, True Label: 3\n",
            "Image 4438: Predicted Label: 3, True Label: 3\n",
            "Image 4463: Predicted Label: 0, True Label: 3\n",
            "Image 4479: Predicted Label: 2, True Label: 3\n",
            "Image 4482: Predicted Label: 2, True Label: 3\n",
            "Image 4488: Predicted Label: 2, True Label: 3\n",
            "Image 4489: Predicted Label: 0, True Label: 3\n",
            "Image 4499: Predicted Label: 3, True Label: 3\n",
            "Image 4506: Predicted Label: 1, True Label: 3\n",
            "Image 4507: Predicted Label: 2, True Label: 3\n",
            "Image 4510: Predicted Label: 3, True Label: 3\n",
            "Image 4513: Predicted Label: 0, True Label: 3\n",
            "Image 4530: Predicted Label: 3, True Label: 3\n",
            "Image 4533: Predicted Label: 3, True Label: 3\n",
            "Image 4536: Predicted Label: 3, True Label: 3\n",
            "Image 4545: Predicted Label: 0, True Label: 3\n",
            "Image 4546: Predicted Label: 0, True Label: 3\n",
            "Image 4548: Predicted Label: 0, True Label: 3\n",
            "Image 4549: Predicted Label: 2, True Label: 3\n",
            "Image 4556: Predicted Label: 3, True Label: 3\n",
            "Image 4560: Predicted Label: 1, True Label: 3\n",
            "Image 4562: Predicted Label: 1, True Label: 3\n",
            "Image 4571: Predicted Label: 3, True Label: 3\n",
            "Image 4575: Predicted Label: 0, True Label: 3\n",
            "Image 4580: Predicted Label: 3, True Label: 3\n",
            "Image 4581: Predicted Label: 3, True Label: 3\n",
            "Image 4587: Predicted Label: 1, True Label: 3\n",
            "Image 4602: Predicted Label: 3, True Label: 3\n",
            "Image 4607: Predicted Label: 1, True Label: 3\n",
            "Image 4616: Predicted Label: 3, True Label: 3\n",
            "Image 4617: Predicted Label: 0, True Label: 3\n",
            "Image 4624: Predicted Label: 0, True Label: 3\n",
            "Image 4625: Predicted Label: 1, True Label: 3\n",
            "Image 4629: Predicted Label: 3, True Label: 3\n",
            "Image 4630: Predicted Label: 3, True Label: 3\n",
            "Image 4632: Predicted Label: 0, True Label: 3\n",
            "Image 4635: Predicted Label: 3, True Label: 3\n",
            "Image 4640: Predicted Label: 0, True Label: 3\n",
            "Image 4642: Predicted Label: 3, True Label: 3\n",
            "Image 4645: Predicted Label: 3, True Label: 3\n",
            "Image 4649: Predicted Label: 3, True Label: 3\n",
            "Image 4653: Predicted Label: 0, True Label: 3\n",
            "Image 4654: Predicted Label: 3, True Label: 3\n",
            "Image 4660: Predicted Label: 0, True Label: 3\n",
            "Image 4664: Predicted Label: 3, True Label: 3\n",
            "Image 4665: Predicted Label: 3, True Label: 3\n",
            "Image 4669: Predicted Label: 3, True Label: 3\n",
            "Image 4677: Predicted Label: 3, True Label: 3\n",
            "Image 4680: Predicted Label: 3, True Label: 3\n",
            "Image 4681: Predicted Label: 3, True Label: 3\n",
            "Image 4685: Predicted Label: 1, True Label: 3\n",
            "Image 4688: Predicted Label: 3, True Label: 3\n",
            "Image 4690: Predicted Label: 3, True Label: 3\n",
            "Image 4700: Predicted Label: 1, True Label: 3\n",
            "Image 4705: Predicted Label: 3, True Label: 3\n",
            "Image 4706: Predicted Label: 3, True Label: 3\n",
            "Image 4708: Predicted Label: 1, True Label: 3\n",
            "Image 4712: Predicted Label: 3, True Label: 3\n",
            "Image 4723: Predicted Label: 3, True Label: 3\n",
            "Image 4735: Predicted Label: 3, True Label: 3\n",
            "Image 4740: Predicted Label: 2, True Label: 3\n",
            "Image 4742: Predicted Label: 2, True Label: 3\n",
            "Image 4746: Predicted Label: 3, True Label: 3\n",
            "Image 4753: Predicted Label: 0, True Label: 3\n",
            "Image 4764: Predicted Label: 3, True Label: 3\n",
            "Image 4767: Predicted Label: 2, True Label: 3\n",
            "Image 4769: Predicted Label: 0, True Label: 3\n",
            "Image 4777: Predicted Label: 3, True Label: 3\n",
            "Image 4782: Predicted Label: 3, True Label: 3\n",
            "Image 4783: Predicted Label: 0, True Label: 3\n",
            "Image 4784: Predicted Label: 3, True Label: 3\n",
            "Image 4788: Predicted Label: 2, True Label: 3\n",
            "Image 4793: Predicted Label: 3, True Label: 3\n",
            "Image 4794: Predicted Label: 2, True Label: 3\n",
            "Image 4797: Predicted Label: 3, True Label: 3\n",
            "Image 4799: Predicted Label: 3, True Label: 3\n",
            "Image 4806: Predicted Label: 2, True Label: 3\n",
            "Image 4813: Predicted Label: 2, True Label: 3\n",
            "Image 4819: Predicted Label: 0, True Label: 3\n",
            "Image 4824: Predicted Label: 0, True Label: 3\n",
            "Image 4827: Predicted Label: 3, True Label: 3\n",
            "Image 4828: Predicted Label: 3, True Label: 3\n",
            "Image 4833: Predicted Label: 3, True Label: 3\n",
            "Image 4834: Predicted Label: 1, True Label: 3\n",
            "Image 4835: Predicted Label: 0, True Label: 3\n",
            "Image 4837: Predicted Label: 3, True Label: 3\n",
            "Image 4842: Predicted Label: 3, True Label: 3\n",
            "Image 4848: Predicted Label: 2, True Label: 3\n",
            "Image 4853: Predicted Label: 2, True Label: 3\n",
            "Image 4854: Predicted Label: 2, True Label: 3\n",
            "Image 4864: Predicted Label: 0, True Label: 3\n",
            "Image 4872: Predicted Label: 0, True Label: 3\n",
            "Image 4879: Predicted Label: 2, True Label: 3\n",
            "Image 4885: Predicted Label: 3, True Label: 3\n",
            "Image 4896: Predicted Label: 1, True Label: 3\n",
            "Image 4901: Predicted Label: 3, True Label: 3\n",
            "Image 4910: Predicted Label: 3, True Label: 3\n",
            "Image 4911: Predicted Label: 3, True Label: 3\n",
            "Image 4917: Predicted Label: 3, True Label: 3\n",
            "Image 4921: Predicted Label: 2, True Label: 3\n",
            "Image 4922: Predicted Label: 1, True Label: 3\n",
            "Image 4925: Predicted Label: 3, True Label: 3\n",
            "Image 4945: Predicted Label: 3, True Label: 3\n",
            "Image 4946: Predicted Label: 3, True Label: 3\n",
            "Image 4952: Predicted Label: 1, True Label: 3\n",
            "Image 4959: Predicted Label: 1, True Label: 3\n",
            "Image 4965: Predicted Label: 0, True Label: 3\n",
            "Image 4977: Predicted Label: 3, True Label: 3\n",
            "Image 4978: Predicted Label: 3, True Label: 3\n",
            "Image 4981: Predicted Label: 3, True Label: 3\n",
            "Image 4987: Predicted Label: 0, True Label: 3\n",
            "Image 4988: Predicted Label: 2, True Label: 3\n",
            "Image 4998: Predicted Label: 3, True Label: 3\n",
            "Image 5008: Predicted Label: 0, True Label: 3\n",
            "Image 5015: Predicted Label: 3, True Label: 3\n",
            "Image 5024: Predicted Label: 1, True Label: 3\n",
            "Image 5031: Predicted Label: 2, True Label: 3\n",
            "Image 5033: Predicted Label: 1, True Label: 3\n",
            "Image 5040: Predicted Label: 3, True Label: 3\n",
            "Image 5046: Predicted Label: 2, True Label: 3\n",
            "Image 5047: Predicted Label: 0, True Label: 3\n",
            "Image 5048: Predicted Label: 0, True Label: 3\n",
            "Image 5049: Predicted Label: 3, True Label: 3\n",
            "Image 5052: Predicted Label: 3, True Label: 3\n",
            "Image 5060: Predicted Label: 1, True Label: 3\n",
            "Image 5064: Predicted Label: 0, True Label: 3\n",
            "Image 5065: Predicted Label: 3, True Label: 3\n",
            "Image 5076: Predicted Label: 2, True Label: 3\n",
            "Image 5078: Predicted Label: 3, True Label: 3\n",
            "Image 5079: Predicted Label: 2, True Label: 3\n",
            "Image 5084: Predicted Label: 0, True Label: 3\n",
            "Image 5085: Predicted Label: 3, True Label: 3\n",
            "Image 5093: Predicted Label: 3, True Label: 3\n",
            "Image 5096: Predicted Label: 1, True Label: 3\n",
            "Image 5097: Predicted Label: 3, True Label: 3\n"
          ]
        }
      ],
      "source": [
        "for i, (predicted_label, true_label) in enumerate(zip(result_val.flatten(), labels_val)):\n",
        "    print(\"Image {}: Predicted Label: {}, True Label: {}\".format(val_numbers[i], int(predicted_label), int(true_label)))"
      ]
    },
    {
      "cell_type": "markdown",
      "metadata": {
        "id": "H5lmtButBtKS"
      },
      "source": [
        "## Train the KNN with HOG descriptors."
      ]
    },
    {
      "cell_type": "code",
      "execution_count": null,
      "metadata": {
        "id": "YxHRLEapB2PQ"
      },
      "outputs": [],
      "source": [
        "def get_hog():\n",
        "    \"\"\"Obtiene un descriptor HOG preconfigurado\"\"\"\n",
        "    win_size = (28, 28)  # Tamaño de la ventana\n",
        "    block_size = (14, 14)  # Tamaño del bloque (la mitad del tamaño de la ventana)\n",
        "    block_stride = (7, 7)  # Paso del bloque (la mitad del tamaño del bloque)\n",
        "    cell_size = (7, 7)  # Tamaño de la celda (igual al tamaño del paso del bloque)\n",
        "    num_bins = 9  # Número de bins en el histograma\n",
        "    hog = cv2.HOGDescriptor(win_size, block_size, block_stride, cell_size, num_bins)\n",
        "    return hog"
      ]
    },
    {
      "cell_type": "code",
      "execution_count": null,
      "metadata": {
        "id": "-ZzaHiatB5dw"
      },
      "outputs": [],
      "source": [
        "# Obtener el descriptor HOG\n",
        "hog = get_hog()\n",
        "\n",
        "# Calcular los descriptores HOG para todas las imágenes\n",
        "hog_descriptors = []\n",
        "for img in images:\n",
        "    hog_descriptors.append(hog.compute(img))\n",
        "hog_descriptors = np.squeeze(hog_descriptors)"
      ]
    },
    {
      "cell_type": "code",
      "execution_count": null,
      "metadata": {
        "id": "jns8uRsnB7yD"
      },
      "outputs": [],
      "source": [
        "hog_descriptors_train = hog_descriptors[train_numbers]\n",
        "hog_descriptors_test = hog_descriptors[test_numbers]\n",
        "hog_descriptors_val = hog_descriptors[val_numbers]"
      ]
    },
    {
      "cell_type": "code",
      "execution_count": null,
      "metadata": {
        "colab": {
          "base_uri": "https://localhost:8080/"
        },
        "id": "ueIfFiZBB9rF",
        "outputId": "7ee41913-5fc0-4bfe-b4de-11229a0149a3"
      },
      "outputs": [
        {
          "name": "stdout",
          "output_type": "stream",
          "text": [
            "Training KNN model - HOG features\n",
            "Accuracy: 88.4313725490196\n"
          ]
        }
      ],
      "source": [
        "# Train the KNN model:\n",
        "print('Training KNN model - HOG features')\n",
        "\n",
        "# Crear el clasificador KNN\n",
        "knn = cv2.ml.KNearest_create()\n",
        "\n",
        "# Entrenar el modelo KNN\n",
        "knn.train(hog_descriptors_train, cv2.ml.ROW_SAMPLE, labels_train)\n",
        "\n",
        "# Testear el modelo creado\n",
        "k = 3\n",
        "ret, result, neighbours, dist = knn.findNearest(hog_descriptors_test, k)\n",
        "\n",
        "# Calcular la precisión\n",
        "acc = get_accuracy(result, labels_test)\n",
        "print(\"Accuracy: {}\".format(acc))"
      ]
    },
    {
      "cell_type": "code",
      "execution_count": null,
      "metadata": {
        "colab": {
          "base_uri": "https://localhost:8080/",
          "height": 698
        },
        "id": "Dnv4a1j1CBx_",
        "outputId": "26432544-01b8-4cf4-c8b8-b5fb46800ce5"
      },
      "outputs": [
        {
          "name": "stdout",
          "output_type": "stream",
          "text": [
            "Training KNN model - raw pixels as features\n",
            " 91.96\n",
            " 86.27\n",
            " 88.43\n",
            " 85.59\n",
            " 85.78\n",
            " 85.10\n",
            " 85.20\n",
            " 84.12\n",
            " 83.73\n"
          ]
        },
        {
          "data": {
            "image/png": "[encoded data removed]",
            "text/plain": [
              "<Figure size 1200x500 with 1 Axes>"
            ]
          },
          "metadata": {},
          "output_type": "display_data"
        }
      ],
      "source": [
        "from collections import defaultdict\n",
        "# Train the KNN model:\n",
        "print('Training KNN model - raw pixels as features')\n",
        "knn = cv2.ml.KNearest_create()\n",
        "knn.train(hog_descriptors_train, cv2.ml.ROW_SAMPLE, labels_train)\n",
        "\n",
        "# Create a dictionary to store the accuracy when testing:\n",
        "results = defaultdict(list)\n",
        "\n",
        "for k in np.arange(1, 10):\n",
        "    ret, result, neighbours, dist = knn.findNearest(hog_descriptors_test, k)\n",
        "    acc = get_accuracy(result, labels_test)\n",
        "    print(\" {}\".format(\"%.2f\" % acc))\n",
        "    results['50'].append(acc)\n",
        "\n",
        "# Show all results using matplotlib capabilities:\n",
        "# Create the dimensions of the figure and set title:\n",
        "fig = plt.figure(figsize=(12, 5))\n",
        "plt.suptitle(\"k-NN handwritten digits recognition\", fontsize=14, fontweight='bold')\n",
        "fig.patch.set_facecolor('silver')\n",
        "\n",
        "ax = plt.subplot(1, 1, 1)\n",
        "ax.set_xlim(0, 10)\n",
        "dim = np.arange(1, 10)\n",
        "\n",
        "for key in results:\n",
        "    ax.plot(dim, results[key], linestyle='--', marker='o', label=\"60%\")\n",
        "\n",
        "plt.legend(loc='upper left', title=\"% training\")\n",
        "plt.title('Accuracy of the K-NN model varying k')\n",
        "plt.xlabel(\"number of k\")\n",
        "plt.ylabel(\"accuracy\")\n",
        "plt.show()"
      ]
    }
  ],
  "metadata": {
    "colab": {
      "collapsed_sections": [
        "xAGRuGLapOsm",
        "fQ4rGHUepq_M",
        "8Rk0AliPqZw5",
        "OfMicaL9qsB2",
        "Iq1JNEWOxTBq",
        "6_E4CmCHfBiD",
        "dDp6nQ3lfyr1",
        "oRspDM-ri5av",
        "6YTpC9TrXvtM",
        "OrzZ6lSlZIYt",
        "H5lmtButBtKS"
      ],
      "provenance": []
    },
    "kernelspec": {
      "display_name": "Python 3",
      "name": "python3"
    },
    "language_info": {
      "name": "python"
    }
  },
  "nbformat": 4,
  "nbformat_minor": 0
}
